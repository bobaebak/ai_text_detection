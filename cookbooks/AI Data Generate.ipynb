{
 "cells": [
  {
   "cell_type": "code",
   "execution_count": 2,
   "metadata": {},
   "outputs": [],
   "source": [
    "import openai\n",
    "import os \n",
    "import sys \n",
    "from dotenv import load_dotenv  \n",
    "\n",
    "# Load environment variables from .env file\n",
    "load_dotenv()\n",
    "\n",
    "sys.path.append(\"/Users/bobaebak/git/ai_text_detection\")"
   ]
  },
  {
   "cell_type": "code",
   "execution_count": 2,
   "metadata": {},
   "outputs": [],
   "source": [
    "from utils.file_helper import *\n",
    "from utils.text_helper import *\n",
    "from utils.plot_helper import *"
   ]
  },
  {
   "cell_type": "code",
   "execution_count": 3,
   "metadata": {},
   "outputs": [],
   "source": [
    "openai.api_key = os.getenv(\"OPENAI_API_KEY\")\n",
    "\n",
    "client = openai.OpenAI(api_key=openai.api_key)"
   ]
  },
  {
   "cell_type": "code",
   "execution_count": 4,
   "metadata": {},
   "outputs": [],
   "source": [
    "file_name = \"../data/student_answers.json\"\n",
    "H_texts = load_json_list(file_name)"
   ]
  },
  {
   "cell_type": "code",
   "execution_count": 7,
   "metadata": {},
   "outputs": [
    {
     "data": {
      "text/plain": [
       "{'raw': 'Integrity and availability was compromised due to the malware. It threatens availability due to wiping the master boot record of vulnerable machines, which prevented users from being able to access and use the infected machines, corresponds to loss of functionality. This malware also threatened the integrity of the machines by being able to overwrite files with 1MB worth of 0xCC bytes, thus rendering the files unreliable.\\n\\nOrganizations could have reduced damage done to the machines by blocking network connections to unnecessary websites, (e.g. social medias like discord).\\n\\nOrganizations could have also used up-to-date anti-malware software that utilize Artificial Intelligence to detect the malware and preventing it from causing harm to the organization.',\n",
       " 'raw_len': 124,\n",
       " 'input': 'integrity and availability was compromised due to the malware. it threatens availability due to wiping the master boot record of vulnerable machines, which prevented users from being able to access and use the infected machines, corresponds to loss of functionality. this malware also threatened the integrity of the machines by being able to overwrite files with 1mb worth of 0xcc bytes, thus rendering the files unreliable.organizations could have reduced damage done to the machines by blocking network connections to unnecessary websites, (e.g. social medias like discord).organizations could have also used up-to-date anti-malware software that utilize artificial intelligence to detect the malware and preventing it from causing harm to the organization.',\n",
       " 'input_len': 121}"
      ]
     },
     "execution_count": 7,
     "metadata": {},
     "output_type": "execute_result"
    }
   ],
   "source": [
    "H_texts[0]"
   ]
  },
  {
   "cell_type": "markdown",
   "metadata": {},
   "source": [
    "# AI data Generate (GPT-3.5-turbo)"
   ]
  },
  {
   "cell_type": "code",
   "execution_count": 11,
   "metadata": {},
   "outputs": [],
   "source": [
    "def gpt_completion(model, instruction: str, text: str):\n",
    "    response = client.chat.completions.create(\n",
    "        model=model,\n",
    "        messages=[{\n",
    "            \"role\": \"user\",\n",
    "            \"content\": f\"{instruction}: {text}\",\n",
    "        }],\n",
    "        # temperature=0\n",
    "    )\n",
    "\n",
    "    content = response.choices[0].message.content.strip()\n",
    "    return response, content"
   ]
  },
  {
   "cell_type": "code",
   "execution_count": 19,
   "metadata": {},
   "outputs": [],
   "source": [
    "def ai_answer_generator(H_texts: list) -> list:\n",
    "    \"\"\"\n",
    "    Generate fake answer data using human data\n",
    "    \"\"\"\n",
    "    ai_json_list = []\n",
    "\n",
    "    instruction = \"Paraphrase this: \"\n",
    "\n",
    "    for ix, item in enumerate(H_texts):\n",
    "        _, content = gpt_completion(\"gpt-3.5-turbo\", instruction, item['raw'])\n",
    "        ai_json_list.append({'raw': content})\n",
    "    \n",
    "        if ix%10 == 0:\n",
    "            print(f\"{ix} is finished\") \n",
    "    \n",
    "    return ai_json_list\n"
   ]
  },
  {
   "cell_type": "code",
   "execution_count": 18,
   "metadata": {},
   "outputs": [
    {
     "data": {
      "text/plain": [
       "[{'raw': 'Integrity and availability was compromised due to the malware. It threatens availability due to wiping the master boot record of vulnerable machines, which prevented users from being able to access and use the infected machines, corresponds to loss of functionality. This malware also threatened the integrity of the machines by being able to overwrite files with 1MB worth of 0xCC bytes, thus rendering the files unreliable.\\n\\nOrganizations could have reduced damage done to the machines by blocking network connections to unnecessary websites, (e.g. social medias like discord).\\n\\nOrganizations could have also used up-to-date anti-malware software that utilize Artificial Intelligence to detect the malware and preventing it from causing harm to the organization.',\n",
       "  'raw_len': 124,\n",
       "  'input': 'integrity and availability was compromised due to the malware. it threatens availability due to wiping the master boot record of vulnerable machines, which prevented users from being able to access and use the infected machines, corresponds to loss of functionality. this malware also threatened the integrity of the machines by being able to overwrite files with 1mb worth of 0xcc bytes, thus rendering the files unreliable.organizations could have reduced damage done to the machines by blocking network connections to unnecessary websites, (e.g. social medias like discord).organizations could have also used up-to-date anti-malware software that utilize artificial intelligence to detect the malware and preventing it from causing harm to the organization.',\n",
       "  'input_len': 121}]"
      ]
     },
     "execution_count": 18,
     "metadata": {},
     "output_type": "execute_result"
    }
   ],
   "source": [
    "H_texts[:1]"
   ]
  },
  {
   "cell_type": "code",
   "execution_count": 22,
   "metadata": {},
   "outputs": [
    {
     "name": "stdout",
     "output_type": "stream",
     "text": [
      "0 is finished\n",
      "10 is finished\n",
      "20 is finished\n",
      "30 is finished\n",
      "40 is finished\n",
      "50 is finished\n",
      "60 is finished\n",
      "70 is finished\n",
      "80 is finished\n",
      "90 is finished\n",
      "100 is finished\n",
      "110 is finished\n",
      "120 is finished\n",
      "130 is finished\n",
      "140 is finished\n",
      "150 is finished\n",
      "160 is finished\n",
      "170 is finished\n",
      "180 is finished\n",
      "190 is finished\n"
     ]
    }
   ],
   "source": [
    "AI_texts = ai_answer_generator(H_texts)"
   ]
  },
  {
   "cell_type": "code",
   "execution_count": 23,
   "metadata": {},
   "outputs": [
    {
     "name": "stdout",
     "output_type": "stream",
     "text": [
      "JSON array saved to ../data/gpt_ai_answers.json\n"
     ]
    }
   ],
   "source": [
    "save_json_list('../data/gpt_ai_answers.json', AI_texts)"
   ]
  },
  {
   "cell_type": "code",
   "execution_count": 27,
   "metadata": {},
   "outputs": [
    {
     "name": "stdout",
     "output_type": "stream",
     "text": [
      "JSON array saved to ../data/gpt_ai_answers.json\n"
     ]
    }
   ],
   "source": [
    "for item in AI_texts: \n",
    "    item['raw_len'] = len(tokenize_text(item['raw'].strip()))\n",
    "\n",
    "save_json_list('../data/gpt_ai_answers.json', AI_texts)\n",
    "# AI_texts"
   ]
  },
  {
   "cell_type": "code",
   "execution_count": 25,
   "metadata": {},
   "outputs": [
    {
     "data": {
      "text/plain": [
       "(192, 192)"
      ]
     },
     "execution_count": 25,
     "metadata": {},
     "output_type": "execute_result"
    }
   ],
   "source": [
    "len(H_texts), len(AI_texts)"
   ]
  },
  {
   "cell_type": "code",
   "execution_count": null,
   "metadata": {},
   "outputs": [],
   "source": []
  }
 ],
 "metadata": {
  "kernelspec": {
   "display_name": "ai_detector",
   "language": "python",
   "name": "python3"
  },
  "language_info": {
   "codemirror_mode": {
    "name": "ipython",
    "version": 3
   },
   "file_extension": ".py",
   "mimetype": "text/x-python",
   "name": "python",
   "nbconvert_exporter": "python",
   "pygments_lexer": "ipython3",
   "version": "3.10.14"
  }
 },
 "nbformat": 4,
 "nbformat_minor": 2
}
