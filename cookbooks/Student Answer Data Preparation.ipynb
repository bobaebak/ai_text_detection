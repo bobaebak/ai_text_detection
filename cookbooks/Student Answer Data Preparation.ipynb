{
 "cells": [
  {
   "cell_type": "markdown",
   "metadata": {},
   "source": [
    "# Pre-processing student answers"
   ]
  },
  {
   "cell_type": "code",
   "execution_count": 1,
   "metadata": {},
   "outputs": [],
   "source": [
    "import os \n",
    "import sys \n",
    "\n",
    "sys.path.append(\"/Users/bobaebak/ai_text_detection\")"
   ]
  },
  {
   "cell_type": "code",
   "execution_count": 90,
   "metadata": {},
   "outputs": [],
   "source": [
    "from utils.file_helper import *\n",
    "from utils.text_helper import *\n",
    "from utils.plot_helper import *"
   ]
  },
  {
   "cell_type": "markdown",
   "metadata": {},
   "source": [
    "# Load Student Answer"
   ]
  },
  {
   "cell_type": "code",
   "execution_count": 3,
   "metadata": {},
   "outputs": [],
   "source": [
    "def load_raw_answers(file_name):\n",
    "    with open(file_name, \"r\") as f:\n",
    "        text = f.read()\n",
    "    \n",
    "    return text "
   ]
  },
  {
   "cell_type": "code",
   "execution_count": 5,
   "metadata": {},
   "outputs": [],
   "source": [
    "raw_text = load_raw_answers('../data/student_answers.txt')"
   ]
  },
  {
   "cell_type": "markdown",
   "metadata": {},
   "source": [
    "# Extract Student Answer"
   ]
  },
  {
   "cell_type": "code",
   "execution_count": 7,
   "metadata": {},
   "outputs": [],
   "source": [
    "def extract_only_answers(key, raw_text):\n",
    "    answer_list = []\n",
    "\n",
    "    given_answer_pattern = r\"Given Answer:\\s*([\\s\\S]*?)(Correct|Incorrect|Partial Credit)*(?=\\s*Response Feedback:|\\Z)\"\n",
    "\n",
    "    # Extract the text following \"Given Answer:\" and its correctness using regex\n",
    "    given_answers = re.findall(given_answer_pattern, raw_text)\n",
    "\n",
    "    # Check if the word exists in each \"Given Answer\" section and print its correctness\n",
    "    if given_answers:\n",
    "        idx = 0\n",
    "        for given_answer in given_answers:\n",
    "            st_answer = given_answer[0].strip()\n",
    "            if st_answer != '':\n",
    "                answer_list.append({f\"{key}\": st_answer})\n",
    "                # print(given_answer[0].strip())\n",
    "                # print(\"=======================\")\n",
    "                idx += 1\n",
    "    else:\n",
    "        print(\"Given Answer not found in the text.\")\n",
    "    \n",
    "    return answer_list"
   ]
  },
  {
   "cell_type": "code",
   "execution_count": 8,
   "metadata": {},
   "outputs": [
    {
     "data": {
      "text/plain": [
       "[{'input': 'Integrity and availability was compromised due to the malware. It threatens availability due to wiping the master boot record of vulnerable machines, which prevented users from being able to access and use the infected machines, corresponds to loss of functionality. This malware also threatened the integrity of the machines by being able to overwrite files with 1MB worth of 0xCC bytes, thus rendering the files unreliable.\\n\\nOrganizations could have reduced damage done to the machines by blocking network connections to unnecessary websites, (e.g. social medias like discord).\\n\\nOrganizations could have also used up-to-date anti-malware software that utilize Artificial Intelligence to detect the malware and preventing it from causing harm to the organization.'},\n",
       " {'input': 'Availability is compromised because the master boot record has been wiped and Files have been overwritten by a wiper.\\n\\nActions that should have been taken to prevent the attacks includes:\\n\\nUpdating the OS to have a newer version of Windows because it has better security features and nobody should be able to use an older version of windows because it has more vulnerabilities\\n\\nAnother action would be having a reliable up-to-date antivirus software to be able to detect the malware and remove it.'},\n",
       " {'input': 'Tntegrity problem was compromised in these attacks where the data is modified by unauthorised or improper users to achieve the attack, it has issues in preventing those improper and unauthorised user to enter the system and modify changes the the information stored in the system which cause a issue of losing of important files.\\n\\n\\nThe possible actions that should have been taken are having better access controls to the system so that the unauthorised and improper users can not access to the system so easily and can not make much changes to the information stored. Keeping it that people with lower security level has no access to those private informations. another action is to have better error detection and correction to be able to figure out the problem as soon as possible and try to fix the error inorder to minimise the damage caused to the system.'},\n",
       " {'input': \"Integrity - the main consequences of the attack were that records  and files were overwritten and government websites were defaced. This is a breach of the data's integrity as it affected the reliability and accuracy of the information held on the government machines and websites, and the modifications were unauthorised and improper.\\n\\nAction 1: Ensure all OS is up to date - this could have helped prevent the attack from being successful as having the OS updated to the latest version would likely result in the latest vulnerabilities being patched.\\n\\nAction 2: Ensure the MBR has a high level of security protection on all devices - the MBR would have a higher chance of not being accessed by an unauthorised user had its security standards been consistently high on all machines.\"},\n",
       " {'input': \"the security goal that was compromised in these attacks was Availabilty. This is because the malware 'completely wiped the MBR of machines' and for some machines 'a wiper overwrote the content of every file it found'. This compromises the availability of data by users. \\n\\nThis attack could have been prevented by some stronger firewall protection against the malware. The damage could also have been limited by having backups of all data, for exaple a data centre.\"}]"
      ]
     },
     "execution_count": 8,
     "metadata": {},
     "output_type": "execute_result"
    }
   ],
   "source": [
    "# extract only student answer\n",
    "answer_list = extract_only_answers(\"input\", raw_text)\n",
    "answer_list[:5]"
   ]
  },
  {
   "cell_type": "markdown",
   "metadata": {},
   "source": [
    "# Preprocess Student Answer"
   ]
  },
  {
   "cell_type": "code",
   "execution_count": 9,
   "metadata": {},
   "outputs": [],
   "source": [
    "for item in answer_list:\n",
    "    text = item['input'].strip()\n",
    "    # remove newline \n",
    "    text = re.sub(r'\\n', '', text)\n",
    "    # to lowcase\n",
    "    text = lowercase_text(text)\n",
    "    # remove urls\n",
    "    text = remove_urls(text)\n",
    "\n",
    "    item['input'] = text \n",
    "    item['input_len'] = len(tokenize_text(text))"
   ]
  },
  {
   "cell_type": "code",
   "execution_count": 10,
   "metadata": {},
   "outputs": [
    {
     "data": {
      "text/plain": [
       "[{'input': 'integrity and availability was compromised due to the malware. it threatens availability due to wiping the master boot record of vulnerable machines, which prevented users from being able to access and use the infected machines, corresponds to loss of functionality. this malware also threatened the integrity of the machines by being able to overwrite files with 1mb worth of 0xcc bytes, thus rendering the files unreliable.organizations could have reduced damage done to the machines by blocking network connections to unnecessary websites, (e.g. social medias like discord).organizations could have also used up-to-date anti-malware software that utilize artificial intelligence to detect the malware and preventing it from causing harm to the organization.',\n",
       "  'input_len': 121},\n",
       " {'input': 'availability is compromised because the master boot record has been wiped and files have been overwritten by a wiper.actions that should have been taken to prevent the attacks includes:updating the os to have a newer version of windows because it has better security features and nobody should be able to use an older version of windows because it has more vulnerabilitiesanother action would be having a reliable up-to-date antivirus software to be able to detect the malware and remove it.',\n",
       "  'input_len': 83},\n",
       " {'input': 'tntegrity problem was compromised in these attacks where the data is modified by unauthorised or improper users to achieve the attack, it has issues in preventing those improper and unauthorised user to enter the system and modify changes the the information stored in the system which cause a issue of losing of important files.the possible actions that should have been taken are having better access controls to the system so that the unauthorised and improper users can not access to the system so easily and can not make much changes to the information stored. keeping it that people with lower security level has no access to those private informations. another action is to have better error detection and correction to be able to figure out the problem as soon as possible and try to fix the error inorder to minimise the damage caused to the system.',\n",
       "  'input_len': 150},\n",
       " {'input': \"integrity - the main consequences of the attack were that records  and files were overwritten and government websites were defaced. this is a breach of the data's integrity as it affected the reliability and accuracy of the information held on the government machines and websites, and the modifications were unauthorised and improper.action 1: ensure all os is up to date - this could have helped prevent the attack from being successful as having the os updated to the latest version would likely result in the latest vulnerabilities being patched.action 2: ensure the mbr has a high level of security protection on all devices - the mbr would have a higher chance of not being accessed by an unauthorised user had its security standards been consistently high on all machines.\",\n",
       "  'input_len': 135},\n",
       " {'input': \"the security goal that was compromised in these attacks was availabilty. this is because the malware 'completely wiped the mbr of machines' and for some machines 'a wiper overwrote the content of every file it found'. this compromises the availability of data by users. this attack could have been prevented by some stronger firewall protection against the malware. the damage could also have been limited by having backups of all data, for exaple a data centre.\",\n",
       "  'input_len': 85}]"
      ]
     },
     "execution_count": 10,
     "metadata": {},
     "output_type": "execute_result"
    }
   ],
   "source": [
    "answer_list[:5]"
   ]
  },
  {
   "cell_type": "markdown",
   "metadata": {},
   "source": [
    "# Save Student Answer"
   ]
  },
  {
   "cell_type": "code",
   "execution_count": 11,
   "metadata": {},
   "outputs": [
    {
     "name": "stdout",
     "output_type": "stream",
     "text": [
      "JSON array saved to ../data/student_answers.json\n"
     ]
    }
   ],
   "source": [
    "file_name = \"../data/student_answers.json\"\n",
    "save_json_list(file_name, answer_list)"
   ]
  },
  {
   "cell_type": "code",
   "execution_count": 12,
   "metadata": {},
   "outputs": [],
   "source": [
    "answer_list = load_json_list(file_name)"
   ]
  },
  {
   "cell_type": "code",
   "execution_count": 13,
   "metadata": {},
   "outputs": [
    {
     "data": {
      "text/plain": [
       "[{'input': 'integrity and availability was compromised due to the malware. it threatens availability due to wiping the master boot record of vulnerable machines, which prevented users from being able to access and use the infected machines, corresponds to loss of functionality. this malware also threatened the integrity of the machines by being able to overwrite files with 1mb worth of 0xcc bytes, thus rendering the files unreliable.organizations could have reduced damage done to the machines by blocking network connections to unnecessary websites, (e.g. social medias like discord).organizations could have also used up-to-date anti-malware software that utilize artificial intelligence to detect the malware and preventing it from causing harm to the organization.',\n",
       "  'input_len': 121},\n",
       " {'input': 'availability is compromised because the master boot record has been wiped and files have been overwritten by a wiper.actions that should have been taken to prevent the attacks includes:updating the os to have a newer version of windows because it has better security features and nobody should be able to use an older version of windows because it has more vulnerabilitiesanother action would be having a reliable up-to-date antivirus software to be able to detect the malware and remove it.',\n",
       "  'input_len': 83},\n",
       " {'input': 'tntegrity problem was compromised in these attacks where the data is modified by unauthorised or improper users to achieve the attack, it has issues in preventing those improper and unauthorised user to enter the system and modify changes the the information stored in the system which cause a issue of losing of important files.the possible actions that should have been taken are having better access controls to the system so that the unauthorised and improper users can not access to the system so easily and can not make much changes to the information stored. keeping it that people with lower security level has no access to those private informations. another action is to have better error detection and correction to be able to figure out the problem as soon as possible and try to fix the error inorder to minimise the damage caused to the system.',\n",
       "  'input_len': 150},\n",
       " {'input': \"integrity - the main consequences of the attack were that records  and files were overwritten and government websites were defaced. this is a breach of the data's integrity as it affected the reliability and accuracy of the information held on the government machines and websites, and the modifications were unauthorised and improper.action 1: ensure all os is up to date - this could have helped prevent the attack from being successful as having the os updated to the latest version would likely result in the latest vulnerabilities being patched.action 2: ensure the mbr has a high level of security protection on all devices - the mbr would have a higher chance of not being accessed by an unauthorised user had its security standards been consistently high on all machines.\",\n",
       "  'input_len': 135},\n",
       " {'input': \"the security goal that was compromised in these attacks was availabilty. this is because the malware 'completely wiped the mbr of machines' and for some machines 'a wiper overwrote the content of every file it found'. this compromises the availability of data by users. this attack could have been prevented by some stronger firewall protection against the malware. the damage could also have been limited by having backups of all data, for exaple a data centre.\",\n",
       "  'input_len': 85}]"
      ]
     },
     "execution_count": 13,
     "metadata": {},
     "output_type": "execute_result"
    }
   ],
   "source": [
    "# answer_list[:5]"
   ]
  },
  {
   "cell_type": "markdown",
   "metadata": {},
   "source": [
    "# Student Answer Data Distribution"
   ]
  },
  {
   "cell_type": "code",
   "execution_count": 91,
   "metadata": {},
   "outputs": [
    {
     "data": {
      "image/png": "[encoded data removed]",
      "text/plain": [
       "<Figure size 1000x1000 with 4 Axes>"
      ]
     },
     "metadata": {},
     "output_type": "display_data"
    }
   ],
   "source": [
    "args = PlotHelper(row=2, col=2, figsize=(10,10), title=\"\",\n",
    "                  plots=[\n",
    "                      PlotItem(ptype=\"hist\", xlabel=\"Text Token Sizes\", ylabel=\"Frequency\", title=\"Human Text Length (Words Count) Distribution\", x=[item['input_len'] for item in answer_list], args={\"bins\":20, \"edgecolor\":\"black\", \"alpha\":0.7}),\n",
    "                      PlotItem(ptype=\"hist\", xlabel=\"Text Token Sizes\", ylabel=\"Frequency\", title=\"Human Text Length (Words Count) Distribution\", x=[item['input_len'] for item in answer_list], args={\"bins\":20, \"edgecolor\":\"black\", \"alpha\":0.7}),\n",
    "                      PlotItem(ptype=\"hist\", xlabel=\"Text Token Sizes\", ylabel=\"Frequency\", title=\"Human Text Length (Words Count) Distribution\", x=[item['input_len'] for item in answer_list], args={\"bins\":20, \"edgecolor\":\"black\", \"alpha\":0.7}),\n",
    "                      PlotItem(ptype=\"hist\", xlabel=\"Text Token Sizes\", ylabel=\"Frequency\", title=\"Human Text Length (Words Count) Distribution\", x=[item['input_len'] for item in answer_list], args={\"bins\":20, \"edgecolor\":\"black\", \"alpha\":0.7}),\n",
    "                    ]\n",
    "                  )\n",
    "draw_plots(args)"
   ]
  },
  {
   "cell_type": "code",
   "execution_count": 92,
   "metadata": {},
   "outputs": [
    {
     "name": "stdout",
     "output_type": "stream",
     "text": [
      "{'input': 'integrity - as it was modifing code in the target computerseducat', 'input_len': 11}\n",
      "{'input': 'ii', 'input_len': 1}\n",
      "{'input': '-integrity was compromised then availability.- availability: files were all overwitten', 'input_len': 11}\n",
      "{'input': 'integrity. it corrupted files rather than leaking them or making them inaccessible.improve modification authentication protocols.', 'input_len': 17}\n",
      "{'input': 'integrity, because it comprimised the credentials of the users.', 'input_len': 11}\n",
      "{'input': 'integrity', 'input_len': 1}\n",
      "{'input': 'no time', 'input_len': 2}\n",
      "{'input': 'integrity was compromised in these attacks, and they employed a multi-stage infection chian as an action. also', 'input_len': 19}\n",
      "{'input': 'confidentiality- as credentials were compromised', 'input_len': 5}\n",
      "{'input': 'integrity - as the files were comprised and the data inside was corrupted.', 'input_len': 14}\n",
      "{'input': 'integrity, it compromised data', 'input_len': 5}\n"
     ]
    }
   ],
   "source": [
    "import numpy as np \n",
    "\n",
    "np.mean([item['input_len'] for item in answer_list])\n",
    "\n",
    "for item in answer_list:\n",
    "    if item['input_len'] < 20:\n",
    "        print(item)"
   ]
  },
  {
   "cell_type": "markdown",
   "metadata": {},
   "source": [
    "# Full"
   ]
  },
  {
   "cell_type": "code",
   "execution_count": 94,
   "metadata": {},
   "outputs": [
    {
     "name": "stdout",
     "output_type": "stream",
     "text": [
      "JSON array saved to ../data/student_answers.json\n"
     ]
    }
   ],
   "source": [
    "# load raw text\n",
    "raw_text = load_raw_answers('../data/student_answers.txt')\n",
    "\n",
    "# extract only student answer\n",
    "answer_list = extract_only_answers(\"input\", raw_text)\n",
    "\n",
    "for item in answer_list:\n",
    "    text = item['input'].strip()\n",
    "    # remove newline \n",
    "    text = re.sub(r'\\n', '', text)\n",
    "    # to lowcase\n",
    "    text = lowercase_text(text)\n",
    "    # remove urls\n",
    "    text = remove_urls(text)\n",
    "\n",
    "    item['input'] = text \n",
    "    item['input_len'] = len(tokenize_text(text))\n",
    "\n",
    "file_name = \"../data/student_answers.json\"\n",
    "save_json_list(file_name, answer_list)"
   ]
  }
 ],
 "metadata": {
  "kernelspec": {
   "display_name": "detect_gpt_env",
   "language": "python",
   "name": "python3"
  },
  "language_info": {
   "codemirror_mode": {
    "name": "ipython",
    "version": 3
   },
   "file_extension": ".py",
   "mimetype": "text/x-python",
   "name": "python",
   "nbconvert_exporter": "python",
   "pygments_lexer": "ipython3",
   "version": "3.11.8"
  }
 },
 "nbformat": 4,
 "nbformat_minor": 2
}
