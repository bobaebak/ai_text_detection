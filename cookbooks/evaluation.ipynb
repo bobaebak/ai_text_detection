{
 "cells": [
  {
   "cell_type": "markdown",
   "metadata": {},
   "source": [
    "# Evaluation"
   ]
  },
  {
   "cell_type": "code",
   "execution_count": 11,
   "metadata": {},
   "outputs": [],
   "source": [
    "# finding gptzero threshold\n",
    "\n",
    "import sys\n",
    "import numpy as np\n",
    "import json\n",
    "from tqdm import tqdm \n",
    "sys.path.append(\"/Users/bobaebak/git/ai_text_detection\")\n",
    "\n",
    "import models.openai_detector \n",
    "import models.openai_finetune_detector \n",
    "import models.radar_detector\n",
    "import models.gptzero_detector\n",
    "import models.detectgpt_detector\n",
    "from utils.text_helper import tokenize_text\n",
    "from utils.plot_helper import *"
   ]
  },
  {
   "cell_type": "markdown",
   "metadata": {},
   "source": [
    "# Human Experiments"
   ]
  },
  {
   "cell_type": "code",
   "execution_count": 3,
   "metadata": {},
   "outputs": [],
   "source": [
    "# load data\n",
    "\n",
    "# loads a tofel dataset\n",
    "with open('../dataset/human/eval_human.json', \"r\") as f:\n",
    "    dataset = json.load(f)"
   ]
  },
  {
   "cell_type": "code",
   "execution_count": 5,
   "metadata": {},
   "outputs": [],
   "source": [
    "h_results = []"
   ]
  },
  {
   "cell_type": "markdown",
   "metadata": {},
   "source": [
    "### OpenAI Detector"
   ]
  },
  {
   "cell_type": "code",
   "execution_count": null,
   "metadata": {},
   "outputs": [],
   "source": [
    "openai_detector = []\n",
    "\n",
    "for i, data in enumerate(tqdm(dataset)):\n",
    "    input = data['input']\n",
    "    result = models.openai_detector.detect(input)\n",
    "    openai_detector.append(result)\n",
    "    \n",
    "    if i%100 == 0:\n",
    "        print(f\"{i} index finished\")\n",
    "    \n",
    "for item in openai_detector:\n",
    "    item['Fake'] = str(item['Fake'])\n",
    "    item['Real'] = str(item['Real'])\n",
    "\n",
    "# save as json file\n",
    "file_path = \"\".join('/Users/bobaebak/git/ai_text_detection/dataset/eval/h_openai_eval.json')\n",
    "print(f\"saved to {file_path}...\")\n",
    "with open(file_path, \"w\") as f:\n",
    "    json.dump(openai_detector, f, indent=4)"
   ]
  },
  {
   "cell_type": "markdown",
   "metadata": {},
   "source": [
    "### OpenAI Detector Fine-tuned"
   ]
  },
  {
   "cell_type": "code",
   "execution_count": 21,
   "metadata": {},
   "outputs": [
    {
     "name": "stderr",
     "output_type": "stream",
     "text": [
      "  0%|          | 0/192 [00:00<?, ?it/s]/Users/bobaebak/anaconda3/envs/ai_detector/lib/python3.10/site-packages/transformers/tokenization_utils_base.py:2674: FutureWarning: The `pad_to_max_length` argument is deprecated and will be removed in a future version, use `padding=True` or `padding='longest'` to pad to the longest sequence in the batch, or use `padding='max_length'` to pad to a max length. In this case, you can give a specific length with `max_length` (e.g. `max_length=45`) or leave max_length to None to pad to the maximal input size of the model (e.g. 512 for Bert).\n",
      "  warnings.warn(\n",
      "  1%|          | 1/192 [00:01<04:49,  1.51s/it]"
     ]
    },
    {
     "name": "stdout",
     "output_type": "stream",
     "text": [
      "0 index finished\n"
     ]
    },
    {
     "name": "stderr",
     "output_type": "stream",
     "text": [
      " 53%|█████▎    | 101/192 [01:01<00:49,  1.84it/s]"
     ]
    },
    {
     "name": "stdout",
     "output_type": "stream",
     "text": [
      "100 index finished\n"
     ]
    },
    {
     "name": "stderr",
     "output_type": "stream",
     "text": [
      "100%|██████████| 192/192 [01:53<00:00,  1.70it/s]"
     ]
    },
    {
     "name": "stdout",
     "output_type": "stream",
     "text": [
      "saved to /Users/bobaebak/git/ai_text_detection/dataset/eval/h_openai_finetuned_eval.json...\n"
     ]
    },
    {
     "name": "stderr",
     "output_type": "stream",
     "text": [
      "\n"
     ]
    }
   ],
   "source": [
    "openai_detector_2 = []\n",
    "\n",
    "for i, data in enumerate(tqdm(dataset)):\n",
    "    input = data['input']\n",
    "    result = models.openai_finetune_detector.detect(input)\n",
    "    openai_detector_2.append(result)\n",
    "    \n",
    "    if i%100 == 0:\n",
    "        print(f\"{i} index finished\")\n",
    "\n",
    "for item in openai_detector_2:\n",
    "    item['Fake'] = str(item['Fake'])\n",
    "    item['Real'] = str(item['Real'])        \n",
    "\n",
    "# save as json file\n",
    "file_path = \"\".join('/Users/bobaebak/git/ai_text_detection/dataset/eval/h_openai_finetuned_eval.json')\n",
    "print(f\"saved to {file_path}...\")\n",
    "with open(file_path, \"w\") as f:\n",
    "    json.dump(openai_detector_2, f, indent=4)"
   ]
  },
  {
   "cell_type": "markdown",
   "metadata": {},
   "source": [
    "### Radar "
   ]
  },
  {
   "cell_type": "code",
   "execution_count": 26,
   "metadata": {},
   "outputs": [
    {
     "name": "stderr",
     "output_type": "stream",
     "text": [
      "  1%|          | 1/192 [00:03<12:39,  3.98s/it]"
     ]
    },
    {
     "name": "stdout",
     "output_type": "stream",
     "text": [
      "0 index finished\n"
     ]
    },
    {
     "name": "stderr",
     "output_type": "stream",
     "text": [
      " 53%|█████▎    | 101/192 [05:51<05:59,  3.95s/it]"
     ]
    },
    {
     "name": "stdout",
     "output_type": "stream",
     "text": [
      "100 index finished\n"
     ]
    },
    {
     "name": "stderr",
     "output_type": "stream",
     "text": [
      "100%|██████████| 192/192 [11:35<00:00,  3.62s/it]"
     ]
    },
    {
     "name": "stdout",
     "output_type": "stream",
     "text": [
      "saved to /Users/bobaebak/git/ai_text_detection/dataset/eval/h_radar_eval.json...\n"
     ]
    },
    {
     "name": "stderr",
     "output_type": "stream",
     "text": [
      "\n"
     ]
    }
   ],
   "source": [
    "radar = []\n",
    "\n",
    "for i, data in enumerate(tqdm(dataset)):\n",
    "    input = data['input']\n",
    "    result = models.radar_detector.detect(input)\n",
    "    radar.append(result)\n",
    "    \n",
    "    if i%100 == 0:\n",
    "        print(f\"{i} index finished\")\n",
    "\n",
    "for item in radar:\n",
    "    item['Fake'] = str(item['Fake'])\n",
    "    item['Real'] = str(item['Real'])    \n",
    "\n",
    "# save as json file\n",
    "file_path = \"\".join('/Users/bobaebak/git/ai_text_detection/dataset/eval/h_radar_eval.json')\n",
    "print(f\"saved to {file_path}...\")\n",
    "with open(file_path, \"w\") as f:\n",
    "    json.dump(radar, f, indent=4)"
   ]
  },
  {
   "cell_type": "markdown",
   "metadata": {},
   "source": [
    "### GPTZero"
   ]
  },
  {
   "cell_type": "code",
   "execution_count": null,
   "metadata": {},
   "outputs": [],
   "source": [
    "gptzero = []\n",
    "\n",
    "for i, data in enumerate(tqdm(dataset)):\n",
    "    input = data['input']\n",
    "    result = models.gptzero_detector.detect(input)\n",
    "    gptzero.append(result)\n",
    "    \n",
    "    if i%100 == 0:\n",
    "        print(f\"{i} index finished\")\n",
    "    \n",
    "# save as json file\n",
    "file_path = \"\".join('/Users/bobaebak/git/ai_text_detection/dataset/eval/h_gptzero_eval.json')\n",
    "print(f\"saved to {file_path}...\")\n",
    "with open(file_path, \"w\") as f:\n",
    "    json.dump(gptzero, f, indent=4)"
   ]
  },
  {
   "cell_type": "markdown",
   "metadata": {},
   "source": [
    "### DetectGPT"
   ]
  },
  {
   "cell_type": "code",
   "execution_count": null,
   "metadata": {},
   "outputs": [],
   "source": [
    "detectgpt = []\n",
    "\n",
    "for i, data in enumerate(tqdm(dataset)):\n",
    "    input = data['input']\n",
    "    result = models.detectgpt_detector.detect(input)\n",
    "    detectgpt.append(result)\n",
    "    \n",
    "    if i%100 == 0:\n",
    "        print(f\"{i} index finished\")\n",
    "    \n",
    "# save as json file\n",
    "file_path = \"\".join('/Users/bobaebak/git/ai_text_detection/dataset/eval/h_detectgpt_eval.json')\n",
    "print(f\"saved to {file_path}...\")\n",
    "with open(file_path, \"w\") as f:\n",
    "    json.dump(detectgpt, f, indent=4)"
   ]
  }
 ],
 "metadata": {
  "kernelspec": {
   "display_name": "ai_detector",
   "language": "python",
   "name": "python3"
  },
  "language_info": {
   "codemirror_mode": {
    "name": "ipython",
    "version": 3
   },
   "file_extension": ".py",
   "mimetype": "text/x-python",
   "name": "python",
   "nbconvert_exporter": "python",
   "pygments_lexer": "ipython3",
   "version": "3.10.14"
  }
 },
 "nbformat": 4,
 "nbformat_minor": 2
}
