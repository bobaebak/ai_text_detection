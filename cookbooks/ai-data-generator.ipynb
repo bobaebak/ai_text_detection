{
 "cells": [
  {
   "cell_type": "markdown",
   "metadata": {},
   "source": [
    "Drawing from research outlined in several papers, the AI dataset will be constructed as following:\n",
    "1. Extracting the first 30 tokens from human-generated data and completing the text using large language models.\n",
    "2. Using the prompt, paraphrased them."
   ]
  },
  {
   "cell_type": "code",
   "execution_count": 1,
   "metadata": {},
   "outputs": [],
   "source": [
    "import json\n",
    "import torch\n",
    "from torch.utils.data import Dataset, DataLoader\n",
    "\n",
    "# loads a tofel dataset\n",
    "with open('../dataset/human/tofel.json', \"r\") as f:\n",
    "    tofel_dataset = json.load(f)\n",
    "\n",
    "# loads an arxiv dataset\n",
    "with open('../dataset/human/arxiv.json', \"r\") as f:\n",
    "    arxiv_dataset = json.load(f)\n",
    "\n",
    "# loads student essay\n",
    "with open('../dataset/human/student_essay.json', \"r\") as f:\n",
    "    essay_dataset = json.load(f)\n",
    "\n",
    "# loads student computer essay \n",
    "with open('../dataset/human/student_cs_essay.json', \"r\") as f:\n",
    "    essay_cs_dataset = json.load(f)"
   ]
  },
  {
   "cell_type": "code",
   "execution_count": 3,
   "metadata": {},
   "outputs": [],
   "source": [
    "device = \"mps\" if torch.backends.mps.is_available() else \"cuda\" if torch.cuda.is_available() else \"cpu\""
   ]
  },
  {
   "cell_type": "markdown",
   "metadata": {},
   "source": [
    "# Using first 30 tokens from human-generated data and completing the text using LLMs"
   ]
  },
  {
   "cell_type": "markdown",
   "metadata": {},
   "source": [
    "### GPT2 (Medium)"
   ]
  },
  {
   "cell_type": "code",
   "execution_count": null,
   "metadata": {},
   "outputs": [],
   "source": [
    "!python ../data/gpt2_generator.py --dataset \"arxiv\" --file_name \"gpt2medium_arxiv.json\" --batch_size 16"
   ]
  },
  {
   "cell_type": "code",
   "execution_count": null,
   "metadata": {},
   "outputs": [],
   "source": [
    "!python ../data/gpt2_generator.py --dataset \"essay\" --file_name \"gpt2medium_essay.json\" --batch_size 16"
   ]
  },
  {
   "cell_type": "code",
   "execution_count": null,
   "metadata": {},
   "outputs": [],
   "source": [
    "!python ../data/gpt2_generator.py --dataset \"essay_cs\" --file_name \"gpt2medium_essay_cs.json\" --batch_size 16"
   ]
  },
  {
   "cell_type": "code",
   "execution_count": null,
   "metadata": {},
   "outputs": [],
   "source": [
    "!python ../data/gpt2_generator.py --dataset \"tofel\" --file_name \"gpt2medium_tofel.json\" --batch_size 16"
   ]
  },
  {
   "cell_type": "markdown",
   "metadata": {},
   "source": [
    "### GPT2 (Large)"
   ]
  },
  {
   "cell_type": "code",
   "execution_count": 8,
   "metadata": {},
   "outputs": [
    {
     "name": "stdout",
     "output_type": "stream",
     "text": [
      "^C\n"
     ]
    },
    {
     "name": "stderr",
     "output_type": "stream",
     "text": [
      "Traceback (most recent call last):\n",
      "  File \"c:\\Users\\bobae\\git\\ai_text_detection\\data\\gpt2_generator.py\", line 89, in <module>\n",
      "    for data in tqdm(enumerate(dataloader)):\n",
      "TypeError: 'module' object is not callable\n"
     ]
    }
   ],
   "source": [
    "# !python ../data/gpt2_generator.py --dataset \"tofel\" --file_name \"gpt2large_tofel.json\" --batch_size 16 --model \"openai-community/gpt2-large\""
   ]
  },
  {
   "cell_type": "code",
   "execution_count": null,
   "metadata": {},
   "outputs": [],
   "source": [
    "# !python ../data/gpt2_generator.py --dataset \"arxiv\" --file_name \"gpt2large_arxiv.json\" --batch_size 16 --model \"openai-community/gpt2-large\""
   ]
  },
  {
   "cell_type": "code",
   "execution_count": null,
   "metadata": {},
   "outputs": [],
   "source": [
    "# !python ../data/gpt2_generator.py --dataset \"essay\" --file_name \"gpt2large_essay.json\" --batch_size 16 --model \"openai-community/gpt2-large\""
   ]
  },
  {
   "cell_type": "code",
   "execution_count": null,
   "metadata": {},
   "outputs": [],
   "source": [
    "# !python ../data/gpt2_generator.py --dataset \"essay_cs\" --file_name \"gpt2large_essay_cs.json\" --batch_size 16 --model \"openai-community/gpt2-large\""
   ]
  },
  {
   "cell_type": "markdown",
   "metadata": {},
   "source": [
    "# Using prompt, paraphrase them\n",
    "\n",
    "**Prompt template**\n",
    "```code\n",
    "# from paper: GPT detectors are biased against non-native English writers\n",
    "Enhance the word choices to sound more like that of a native speaker. \n",
    "Simplify word choices as if written by a non-native speaker\n",
    "\n",
    "# from paper: RAIDAR: GENERATIVE AI DETECTION VIA REWRIT- ING\n",
    "Help me polish this:\n",
    "Rewrite this for me:\n",
    "Refine this for me please:\n",
    "```"
   ]
  },
  {
   "cell_type": "markdown",
   "metadata": {},
   "source": [
    "### GPT-3.5-Turbo"
   ]
  },
  {
   "cell_type": "code",
   "execution_count": null,
   "metadata": {},
   "outputs": [],
   "source": [
    "!python ../data/gpt35_generator.py --dataset \"tofel\" --file_name \"gpt35_tofel.json\""
   ]
  },
  {
   "cell_type": "code",
   "execution_count": null,
   "metadata": {},
   "outputs": [],
   "source": [
    "!python ../data/gpt35_generator.py --dataset \"arxiv\" --file_name \"gpt35_arxiv.json\""
   ]
  },
  {
   "cell_type": "code",
   "execution_count": null,
   "metadata": {},
   "outputs": [],
   "source": [
    "!python ../data/gpt35_generator.py --dataset \"essay\" --file_name \"gpt35_essay.json\""
   ]
  },
  {
   "cell_type": "code",
   "execution_count": null,
   "metadata": {},
   "outputs": [],
   "source": [
    "!python ../data/gpt35_generator.py --dataset \"essay_cs\" --file_name \"gpt35_essay_cs.json\""
   ]
  },
  {
   "cell_type": "markdown",
   "metadata": {},
   "source": [
    "### Llama"
   ]
  },
  {
   "cell_type": "code",
   "execution_count": null,
   "metadata": {},
   "outputs": [],
   "source": [
    "!python ../data/llama_generator.py --dataset \"tofel\" --model \"llama3_70b\" --file_name \"llama3_70b_tofel.json\""
   ]
  }
 ],
 "metadata": {
  "kernelspec": {
   "display_name": "ai_detector",
   "language": "python",
   "name": "python3"
  },
  "language_info": {
   "codemirror_mode": {
    "name": "ipython",
    "version": 3
   },
   "file_extension": ".py",
   "mimetype": "text/x-python",
   "name": "python",
   "nbconvert_exporter": "python",
   "pygments_lexer": "ipython3",
   "version": "3.10.14"
  }
 },
 "nbformat": 4,
 "nbformat_minor": 2
}
