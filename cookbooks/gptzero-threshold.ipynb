{
 "cells": [
  {
   "cell_type": "markdown",
   "metadata": {},
   "source": [
    "# GPTZero threshold"
   ]
  },
  {
   "cell_type": "code",
   "execution_count": 15,
   "metadata": {},
   "outputs": [],
   "source": [
    "# finding gptzero threshold\n",
    "\n",
    "import sys\n",
    "import json\n",
    "from tqdm import tqdm \n",
    "sys.path.append(\"/Users/bobaebak/git/ai_text_detection\")\n",
    "\n",
    "from models.gptzero_detector import *\n",
    "from utils.text_helper import tokenize_text"
   ]
  },
  {
   "cell_type": "markdown",
   "metadata": {},
   "source": [
    "# human threshold"
   ]
  },
  {
   "cell_type": "code",
   "execution_count": 5,
   "metadata": {},
   "outputs": [],
   "source": [
    "# human data\n",
    "\n",
    "# loads a tofel dataset\n",
    "with open('../dataset/human/tofel.json', \"r\") as f:\n",
    "    h_tofel_dataset = json.load(f)\n",
    "\n",
    "# loads an arxiv dataset\n",
    "with open('../dataset/human/arxiv.json', \"r\") as f:\n",
    "    h_arxiv_dataset = json.load(f)\n",
    "\n",
    "# loads student essay\n",
    "with open('../dataset/human/student_essay.json', \"r\") as f:\n",
    "    h_essay_dataset = json.load(f)\n",
    "\n",
    "# loads student computer essay\n",
    "with open('../dataset/human/student_cs_essay.json', \"r\") as f:\n",
    "    h_essay_cs_dataset = json.load(f)"
   ]
  },
  {
   "cell_type": "code",
   "execution_count": 6,
   "metadata": {},
   "outputs": [
    {
     "data": {
      "text/plain": [
       "2478"
      ]
     },
     "execution_count": 6,
     "metadata": {},
     "output_type": "execute_result"
    }
   ],
   "source": [
    "h_dataset = []\n",
    "for i in [h_tofel_dataset, h_arxiv_dataset, h_essay_dataset, h_essay_cs_dataset]:\n",
    "    h_dataset.extend(i)\n",
    "\n",
    "len(h_dataset)"
   ]
  },
  {
   "cell_type": "code",
   "execution_count": 13,
   "metadata": {},
   "outputs": [],
   "source": [
    "json_lst = []\n",
    "\n",
    "for i, data in enumerate(tqdm(h_dataset)):\n",
    "    input = data['input']\n",
    "    result = detect(input)\n",
    "    result['num_words'] = len(tokenize_text(input))\n",
    "    json_lst.append(result)\n",
    "\n",
    "    if i%100 == 0:\n",
    "        print(f\"{i} index finished\")\n",
    "\n",
    "# save as json file\n",
    "file_path = \"\".join('/mnt/data/bobae/ai_text_detection/dataset/human/gptzero_human.json')\n",
    "print(f\"saved to {file_path}...\")\n",
    "with open(file_path, \"w\") as f:\n",
    "    json.dump(json_lst, f, indent=4)\n"
   ]
  },
  {
   "cell_type": "markdown",
   "metadata": {},
   "source": [
    "# AI threshold"
   ]
  },
  {
   "cell_type": "code",
   "execution_count": 25,
   "metadata": {},
   "outputs": [],
   "source": [
    "# gpt data\n",
    "\n",
    "# loads a tofel dataset\n",
    "with open('../dataset/ai/gpt2medium_tofel.json', \"r\") as f:\n",
    "    gpt_tofel_dataset = json.load(f)\n",
    "\n",
    "# loads an arxiv dataset\n",
    "with open('../dataset/ai/gpt2medium_arxiv.json', \"r\") as f:\n",
    "    gpt_arxiv_dataset = json.load(f)\n",
    "\n",
    "# loads student essay\n",
    "with open('../dataset/ai/gpt2medium_essay.json', \"r\") as f:\n",
    "    gpt_essay_dataset = json.load(f)\n",
    "\n",
    "# loads student computer essay\n",
    "with open('../dataset/ai/gpt2medium_essay_cs.json', \"r\") as f:\n",
    "    gpt_essay_cs_dataset = json.load(f)\n",
    "\n",
    "# loads a tofel dataset\n",
    "with open('../dataset/ai/gpt35_tofel.json', \"r\") as f:\n",
    "    gpt_35_tofel_dataset = json.load(f)\n",
    "\n",
    "# loads student computer essay\n",
    "with open('../dataset/ai/gpt35_essay_cs.json', \"r\") as f:\n",
    "    gpt_35_essay_cs_dataset = json.load(f)"
   ]
  },
  {
   "cell_type": "code",
   "execution_count": 26,
   "metadata": {},
   "outputs": [
    {
     "data": {
      "text/plain": [
       "2956"
      ]
     },
     "execution_count": 26,
     "metadata": {},
     "output_type": "execute_result"
    }
   ],
   "source": [
    "gpt_dataset = []\n",
    "for i in [gpt_tofel_dataset, gpt_arxiv_dataset, gpt_essay_dataset, gpt_essay_cs_dataset,\n",
    "          gpt_35_tofel_dataset, gpt_35_essay_cs_dataset]:\n",
    "    gpt_dataset.extend(i)\n",
    "\n",
    "len(gpt_dataset)"
   ]
  },
  {
   "cell_type": "code",
   "execution_count": null,
   "metadata": {},
   "outputs": [],
   "source": [
    "json_lst = []\n",
    "\n",
    "for i, data in enumerate(tqdm(h_dataset)):\n",
    "    input = data['input']\n",
    "    result = detect(input)\n",
    "    result['num_words'] = len(tokenize_text(input))\n",
    "    json_lst.append(result)\n",
    "\n",
    "    if i%100 == 0:\n",
    "        print(f\"{i} index finished\")\n",
    "\n",
    "# save as json file\n",
    "file_path = \"\".join('/mnt/data/bobae/ai_text_detection/dataset/ai/gptzero_ai.json')\n",
    "print(f\"saved to {file_path}...\")\n",
    "with open(file_path, \"w\") as f:\n",
    "    json.dump(json_lst, f, indent=4)\n"
   ]
  }
 ],
 "metadata": {
  "kernelspec": {
   "display_name": "ai_detector",
   "language": "python",
   "name": "python3"
  },
  "language_info": {
   "codemirror_mode": {
    "name": "ipython",
    "version": 3
   },
   "file_extension": ".py",
   "mimetype": "text/x-python",
   "name": "python",
   "nbconvert_exporter": "python",
   "pygments_lexer": "ipython3",
   "version": "3.10.14"
  }
 },
 "nbformat": 4,
 "nbformat_minor": 2
}
