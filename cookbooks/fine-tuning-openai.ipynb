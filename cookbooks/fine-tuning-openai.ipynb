{
 "cells": [
  {
   "cell_type": "markdown",
   "metadata": {
    "id": "tDdhG63BE9vl"
   },
   "source": [
    "# Fine-Tuning of OpenAI detector"
   ]
  },
  {
   "cell_type": "code",
   "execution_count": 1,
   "metadata": {
    "colab": {
     "base_uri": "https://localhost:8080/"
    },
    "id": "0lNNCcY5FFCM",
    "outputId": "a726d8f5-031d-4c95-f1b5-69a9b97c6ed2"
   },
   "outputs": [
    {
     "name": "stdout",
     "output_type": "stream",
     "text": [
      "Mounted at /content/drive\n"
     ]
    }
   ],
   "source": [
    "from google.colab import drive\n",
    "drive.mount('/content/drive')"
   ]
  },
  {
   "cell_type": "code",
   "execution_count": 2,
   "metadata": {
    "colab": {
     "base_uri": "https://localhost:8080/"
    },
    "id": "QpFwRO2mFVkm",
    "outputId": "3df71a40-f2f7-4d39-9efa-94bc54fddeb9"
   },
   "outputs": [
    {
     "name": "stdout",
     "output_type": "stream",
     "text": [
      "/content/drive/MyDrive/Colab Notebooks/ai_text_detection/cookbooks\n"
     ]
    }
   ],
   "source": [
    "%cd drive/MyDrive/Colab Notebooks/ai_text_detection/cookbooks"
   ]
  },
  {
   "cell_type": "code",
   "execution_count": 85,
   "metadata": {
    "id": "4-68HlTGE9vx"
   },
   "outputs": [],
   "source": [
    "import json\n",
    "import pandas as pd\n",
    "import numpy as np\n",
    "import torch\n",
    "from tqdm import tqdm\n",
    "# import tqdm\n",
    "from sklearn.utils import resample\n",
    "import torch.nn.functional as F\n",
    "import copy\n",
    "import matplotlib.pyplot as plt\n",
    "from torch.utils.data import Dataset, DataLoader\n",
    "from transformers import AutoTokenizer, AutoModelForSequenceClassification"
   ]
  },
  {
   "cell_type": "code",
   "execution_count": 2,
   "metadata": {},
   "outputs": [],
   "source": [
    "import sys\n",
    "import os\n",
    "sys.path.append(\"/mnt/data/bobae/ai_text_detection\")\n",
    "\n",
    "from utils.cuda_helper import *"
   ]
  },
  {
   "cell_type": "markdown",
   "metadata": {},
   "source": [
    "### Set GPU"
   ]
  },
  {
   "cell_type": "code",
   "execution_count": 3,
   "metadata": {},
   "outputs": [
    {
     "name": "stdout",
     "output_type": "stream",
     "text": [
      "Current GPU memory usage: 0.00 MB\n",
      "Maximum GPU memory usage: 0.00 MB\n"
     ]
    }
   ],
   "source": [
    "print_gpu_usage()"
   ]
  },
  {
   "cell_type": "code",
   "execution_count": 4,
   "metadata": {},
   "outputs": [
    {
     "name": "stdout",
     "output_type": "stream",
     "text": [
      "cuda 0: NVIDIA GeForce RTX 2080 Ti\n",
      "cuda 1: NVIDIA GeForce RTX 2080 Ti\n"
     ]
    }
   ],
   "source": [
    "print_gpu_devie_name()"
   ]
  },
  {
   "cell_type": "code",
   "execution_count": 28,
   "metadata": {
    "id": "qJveZ7hHE9v3"
   },
   "outputs": [],
   "source": [
    "device = \"mps\" if torch.backends.mps.is_available() else \"cuda\" if torch.cuda.is_available() else \"cpu\"\n",
    "num_gpus = torch.cuda.device_count()\n",
    "\n",
    "if num_gpus>1:\n",
    "    device = \"cuda:0\""
   ]
  },
  {
   "cell_type": "code",
   "execution_count": 40,
   "metadata": {
    "scrolled": true
   },
   "outputs": [
    {
     "data": {
      "text/plain": [
       "'cuda:0'"
      ]
     },
     "execution_count": 40,
     "metadata": {},
     "output_type": "execute_result"
    }
   ],
   "source": [
    "device"
   ]
  },
  {
   "cell_type": "code",
   "execution_count": 59,
   "metadata": {},
   "outputs": [
    {
     "name": "stdout",
     "output_type": "stream",
     "text": [
      "_CudaDeviceProperties(name='NVIDIA GeForce RTX 2080 Ti', major=7, minor=5, total_memory=11011MB, multi_processor_count=68)\n",
      "Total GPU memory: 10.75 GB\n"
     ]
    }
   ],
   "source": [
    "# Get the device properties for the current GPU\n",
    "device_props = torch.cuda.get_device_properties(torch.cuda.current_device())\n",
    "print(device_props)\n",
    "\n",
    "# Print the total GPU memory in gigabytes\n",
    "total_gpu_memory = device_props.total_memory / (1024**3)\n",
    "print(f\"Total GPU memory: {total_gpu_memory:.2f} GB\")"
   ]
  },
  {
   "cell_type": "markdown",
   "metadata": {
    "id": "0IrVcIBIE9v5"
   },
   "source": [
    "### Load json data file and convert to dataframe"
   ]
  },
  {
   "cell_type": "code",
   "execution_count": 7,
   "metadata": {
    "id": "kS-tbweBE9v6"
   },
   "outputs": [],
   "source": [
    "# human data\n",
    "\n",
    "# loads a tofel dataset\n",
    "with open('../dataset/human/tofel.json', \"r\") as f:\n",
    "    h_tofel_dataset = json.load(f)\n",
    "\n",
    "# loads an arxiv dataset\n",
    "with open('../dataset/human/arxiv.json', \"r\") as f:\n",
    "    h_arxiv_dataset = json.load(f)\n",
    "\n",
    "# loads student essay\n",
    "with open('../dataset/human/student_essay.json', \"r\") as f:\n",
    "    h_essay_dataset = json.load(f)\n",
    "\n",
    "# loads student computer essay\n",
    "with open('../dataset/human/student_cs_essay.json', \"r\") as f:\n",
    "    h_essay_cs_dataset = json.load(f)"
   ]
  },
  {
   "cell_type": "code",
   "execution_count": 8,
   "metadata": {
    "id": "w6f6HRR9E9v8"
   },
   "outputs": [],
   "source": [
    "# gpt data\n",
    "\n",
    "# loads a tofel dataset\n",
    "with open('../dataset/ai/gpt2medium_tofel.json', \"r\") as f:\n",
    "    gpt_tofel_dataset = json.load(f)\n",
    "\n",
    "# loads an arxiv dataset\n",
    "with open('../dataset/ai/gpt2medium_arxiv.json', \"r\") as f:\n",
    "    gpt_arxiv_dataset = json.load(f)\n",
    "\n",
    "# loads student essay\n",
    "with open('../dataset/ai/gpt2medium_essay.json', \"r\") as f:\n",
    "    gpt_essay_dataset = json.load(f)\n",
    "\n",
    "# loads student computer essay\n",
    "with open('../dataset/ai/gpt2medium_essay_cs.json', \"r\") as f:\n",
    "    gpt_essay_cs_dataset = json.load(f)\n",
    "\n",
    "# loads a tofel dataset\n",
    "with open('../dataset/ai/gpt35_tofel.json', \"r\") as f:\n",
    "    gpt_35_tofel_dataset = json.load(f)\n",
    "\n",
    "# loads student computer essay\n",
    "with open('../dataset/ai/gpt35_essay_cs.json', \"r\") as f:\n",
    "    gpt_35_essay_cs_dataset = json.load(f)"
   ]
  },
  {
   "cell_type": "code",
   "execution_count": 9,
   "metadata": {
    "colab": {
     "base_uri": "https://localhost:8080/"
    },
    "id": "epBape2VE9v-",
    "outputId": "feac056d-5be9-4c79-9573-85466f7b898f"
   },
   "outputs": [
    {
     "data": {
      "text/plain": [
       "2478"
      ]
     },
     "execution_count": 9,
     "metadata": {},
     "output_type": "execute_result"
    }
   ],
   "source": [
    "h_dataset = []\n",
    "for i in [h_tofel_dataset, h_arxiv_dataset, h_essay_dataset, h_essay_cs_dataset]:\n",
    "    h_dataset.extend(i)\n",
    "\n",
    "len(h_dataset)"
   ]
  },
  {
   "cell_type": "code",
   "execution_count": 10,
   "metadata": {
    "colab": {
     "base_uri": "https://localhost:8080/"
    },
    "id": "JaHJOc_mE9wB",
    "outputId": "6df71e53-bfac-435a-e62a-06a29c15ff80"
   },
   "outputs": [
    {
     "data": {
      "text/plain": [
       "2956"
      ]
     },
     "execution_count": 10,
     "metadata": {},
     "output_type": "execute_result"
    }
   ],
   "source": [
    "gpt_dataset = []\n",
    "for i in [gpt_tofel_dataset, gpt_arxiv_dataset, gpt_essay_dataset, gpt_essay_cs_dataset,\n",
    "          gpt_35_tofel_dataset, gpt_35_essay_cs_dataset]:\n",
    "    gpt_dataset.extend(i)\n",
    "\n",
    "len(gpt_dataset)"
   ]
  },
  {
   "cell_type": "code",
   "execution_count": 11,
   "metadata": {
    "id": "yvdPDLgYE9wD"
   },
   "outputs": [],
   "source": [
    "dct = {\n",
    "    \"text\": [item['input'] for item in h_dataset] + [item['input'] for item in gpt_dataset],\n",
    "    \"label\": [item['label'] for item in h_dataset] + [item['label'] for item in gpt_dataset],\n",
    "}\n",
    "\n",
    "df = pd.DataFrame(dct)\n",
    "\n",
    "def label_to_numeric(value):\n",
    "    if value == \"human\":\n",
    "        return 1\n",
    "    else:\n",
    "        return 0\n",
    "\n",
    "df['target'] = df['label'].apply(lambda x: label_to_numeric(x))"
   ]
  },
  {
   "cell_type": "code",
   "execution_count": 12,
   "metadata": {
    "colab": {
     "base_uri": "https://localhost:8080/",
     "height": 423
    },
    "id": "mhFxK9EFE9wE",
    "outputId": "3105f1ae-91cb-462c-f82f-24751c1d358d"
   },
   "outputs": [
    {
     "data": {
      "text/html": [
       "<div>\n",
       "<style scoped>\n",
       "    .dataframe tbody tr th:only-of-type {\n",
       "        vertical-align: middle;\n",
       "    }\n",
       "\n",
       "    .dataframe tbody tr th {\n",
       "        vertical-align: top;\n",
       "    }\n",
       "\n",
       "    .dataframe thead th {\n",
       "        text-align: right;\n",
       "    }\n",
       "</style>\n",
       "<table border=\"1\" class=\"dataframe\">\n",
       "  <thead>\n",
       "    <tr style=\"text-align: right;\">\n",
       "      <th></th>\n",
       "      <th>text</th>\n",
       "      <th>label</th>\n",
       "      <th>target</th>\n",
       "    </tr>\n",
       "  </thead>\n",
       "  <tbody>\n",
       "    <tr>\n",
       "      <th>0</th>\n",
       "      <td>The spectral action on noncommutative torus is...</td>\n",
       "      <td>human</td>\n",
       "      <td>1</td>\n",
       "    </tr>\n",
       "    <tr>\n",
       "      <th>1</th>\n",
       "      <td>Computerized Ordering System Thesis\\n\\nIntrodu...</td>\n",
       "      <td>ai</td>\n",
       "      <td>0</td>\n",
       "    </tr>\n",
       "    <tr>\n",
       "      <th>2</th>\n",
       "      <td>We report observation of spin-orbit Berry's ph...</td>\n",
       "      <td>human</td>\n",
       "      <td>1</td>\n",
       "    </tr>\n",
       "    <tr>\n",
       "      <th>3</th>\n",
       "      <td>We report observation of spin-orbit Berry's ph...</td>\n",
       "      <td>ai</td>\n",
       "      <td>0</td>\n",
       "    </tr>\n",
       "    <tr>\n",
       "      <th>4</th>\n",
       "      <td>\\n\\nThe first thing you need to do is to get y...</td>\n",
       "      <td>ai</td>\n",
       "      <td>0</td>\n",
       "    </tr>\n",
       "    <tr>\n",
       "      <th>...</th>\n",
       "      <td>...</td>\n",
       "      <td>...</td>\n",
       "      <td>...</td>\n",
       "    </tr>\n",
       "    <tr>\n",
       "      <th>4951</th>\n",
       "      <td>The Lessons from Yusufiyah Essay\\n\\nThe Lesson...</td>\n",
       "      <td>human</td>\n",
       "      <td>1</td>\n",
       "    </tr>\n",
       "    <tr>\n",
       "      <th>4952</th>\n",
       "      <td>We present an algorithm that produces the clas...</td>\n",
       "      <td>ai</td>\n",
       "      <td>0</td>\n",
       "    </tr>\n",
       "    <tr>\n",
       "      <th>4953</th>\n",
       "      <td>In this paper we investigate the optimal contr...</td>\n",
       "      <td>human</td>\n",
       "      <td>1</td>\n",
       "    </tr>\n",
       "    <tr>\n",
       "      <th>4954</th>\n",
       "      <td>Correlation between Socioeconomic Status and H...</td>\n",
       "      <td>human</td>\n",
       "      <td>1</td>\n",
       "    </tr>\n",
       "    <tr>\n",
       "      <th>4955</th>\n",
       "      <td>\\n\\nThe first thing you need to do is to get y...</td>\n",
       "      <td>ai</td>\n",
       "      <td>0</td>\n",
       "    </tr>\n",
       "  </tbody>\n",
       "</table>\n",
       "<p>4956 rows × 3 columns</p>\n",
       "</div>"
      ],
      "text/plain": [
       "                                                   text  label  target\n",
       "0     The spectral action on noncommutative torus is...  human       1\n",
       "1     Computerized Ordering System Thesis\\n\\nIntrodu...     ai       0\n",
       "2     We report observation of spin-orbit Berry's ph...  human       1\n",
       "3     We report observation of spin-orbit Berry's ph...     ai       0\n",
       "4     \\n\\nThe first thing you need to do is to get y...     ai       0\n",
       "...                                                 ...    ...     ...\n",
       "4951  The Lessons from Yusufiyah Essay\\n\\nThe Lesson...  human       1\n",
       "4952  We present an algorithm that produces the clas...     ai       0\n",
       "4953  In this paper we investigate the optimal contr...  human       1\n",
       "4954  Correlation between Socioeconomic Status and H...  human       1\n",
       "4955  \\n\\nThe first thing you need to do is to get y...     ai       0\n",
       "\n",
       "[4956 rows x 3 columns]"
      ]
     },
     "execution_count": 12,
     "metadata": {},
     "output_type": "execute_result"
    }
   ],
   "source": [
    "class_counts = df['target'].value_counts()\n",
    "majority_class = class_counts.idxmax()\n",
    "minority_class = class_counts.idxmin()\n",
    "\n",
    "# Separate majority and minority classes\n",
    "majority_df = df[df['target'] == majority_class]\n",
    "minority_df = df[df['target'] == minority_class]\n",
    "\n",
    "# Undersample majority class\n",
    "undersampled_majority_df = resample(majority_df,\n",
    "                                    replace=False,  # Sample without replacement\n",
    "                                    n_samples=len(minority_df),  # Match minority class size\n",
    "                                    random_state=42)  # For reproducibility\n",
    "\n",
    "# Combine minority class with undersampled majority class\n",
    "undersampled_df = pd.concat([undersampled_majority_df, minority_df])\n",
    "undersampled_df = undersampled_df.sample(frac=1, random_state=42).reset_index(drop=True)\n",
    "df = undersampled_df\n",
    "df"
   ]
  },
  {
   "cell_type": "markdown",
   "metadata": {
    "id": "FI5TS8TiE9wG"
   },
   "source": [
    "### Preparing the Dataset and Dataloader"
   ]
  },
  {
   "cell_type": "code",
   "execution_count": 13,
   "metadata": {
    "id": "Nw9xGDeVE9wH"
   },
   "outputs": [],
   "source": [
    "class SentimentData(Dataset):\n",
    "    def __init__(self, dataframe, tokenizer, max_len):\n",
    "        self.tokenizer = tokenizer\n",
    "        self.data = dataframe\n",
    "        self.text = self.data.text\n",
    "        self.target = self.data.target\n",
    "        self.max_len = max_len\n",
    "\n",
    "    def __len__(self):\n",
    "        return len(self.text)\n",
    "\n",
    "    def __getitem__(self, index):\n",
    "        text = str(self.text[index])\n",
    "        text = \" \".join(text.split())\n",
    "\n",
    "        inputs = self.tokenizer.encode_plus(\n",
    "            text,\n",
    "            None,\n",
    "            add_special_tokens=True,\n",
    "            pad_to_max_length=True,\n",
    "            max_length=self.max_len,\n",
    "            return_token_type_ids=True\n",
    "        )\n",
    "        ids = inputs['input_ids']\n",
    "        mask = inputs['attention_mask']\n",
    "        token_type_ids = inputs[\"token_type_ids\"]\n",
    "\n",
    "\n",
    "        return {\n",
    "            'ids': torch.tensor(ids, dtype=torch.long),\n",
    "            'mask': torch.tensor(mask, dtype=torch.long),\n",
    "            'token_type_ids': torch.tensor(token_type_ids, dtype=torch.long),\n",
    "            'target': torch.tensor(self.target[index], dtype=torch.float)\n",
    "        }"
   ]
  },
  {
   "cell_type": "code",
   "execution_count": 14,
   "metadata": {
    "colab": {
     "base_uri": "https://localhost:8080/"
    },
    "id": "1aWzXey0E9wI",
    "outputId": "e5f09c67-fa49-4090-9d0c-c2de14aa0e5c"
   },
   "outputs": [
    {
     "name": "stderr",
     "output_type": "stream",
     "text": [
      "Some weights of the model checkpoint at openai-community/roberta-large-openai-detector were not used when initializing RobertaForSequenceClassification: ['roberta.pooler.dense.bias', 'roberta.pooler.dense.weight']\n",
      "- This IS expected if you are initializing RobertaForSequenceClassification from the checkpoint of a model trained on another task or with another architecture (e.g. initializing a BertForSequenceClassification model from a BertForPreTraining model).\n",
      "- This IS NOT expected if you are initializing RobertaForSequenceClassification from the checkpoint of a model that you expect to be exactly identical (initializing a BertForSequenceClassification model from a BertForSequenceClassification model).\n"
     ]
    }
   ],
   "source": [
    "tokenizer = AutoTokenizer.from_pretrained(\"openai-community/roberta-large-openai-detector\")\n",
    "model = AutoModelForSequenceClassification.from_pretrained(\"openai-community/roberta-large-openai-detector\")"
   ]
  },
  {
   "cell_type": "code",
   "execution_count": 49,
   "metadata": {
    "id": "ZSzTfZGcE9wJ"
   },
   "outputs": [],
   "source": [
    "# Defining some key variables that will be used later on in the training\n",
    "MAX_LEN = 256\n",
    "TRAIN_BATCH_SIZE = 8\n",
    "VALID_BATCH_SIZE = 8\n",
    "EPOCHS = 1\n",
    "LEARNING_RATE = 1e-05\n",
    "# tokenizer = RobertaTokenizer.from_pretrained('roberta-base', truncation=True, do_lower_case=True)"
   ]
  },
  {
   "cell_type": "code",
   "execution_count": 50,
   "metadata": {
    "colab": {
     "base_uri": "https://localhost:8080/"
    },
    "id": "VLnyur5yE9wK",
    "outputId": "53439859-7fd6-4c53-d8c9-ea59323287f8"
   },
   "outputs": [
    {
     "name": "stdout",
     "output_type": "stream",
     "text": [
      "FULL Dataset: (4956, 3)\n",
      "TRAIN Dataset: (3965, 3)\n",
      "TEST Dataset: (991, 3)\n"
     ]
    }
   ],
   "source": [
    "train_size = 0.8\n",
    "train_data=df.sample(frac=train_size, random_state=42)\n",
    "test_data=df.drop(train_data.index).reset_index(drop=True)\n",
    "train_data = train_data.reset_index(drop=True)\n",
    "\n",
    "print(\"FULL Dataset: {}\".format(df.shape))\n",
    "print(\"TRAIN Dataset: {}\".format(train_data.shape))\n",
    "print(\"TEST Dataset: {}\".format(test_data.shape))\n",
    "\n",
    "training_set = SentimentData(train_data, tokenizer, MAX_LEN)\n",
    "testing_set = SentimentData(test_data, tokenizer, MAX_LEN)"
   ]
  },
  {
   "cell_type": "code",
   "execution_count": 51,
   "metadata": {
    "id": "uj4NJRDpE9wL"
   },
   "outputs": [],
   "source": [
    "train_params = {'batch_size': TRAIN_BATCH_SIZE, 'shuffle': True, 'num_workers': 0}\n",
    "test_params = {'batch_size': VALID_BATCH_SIZE, 'shuffle': True, 'num_workers': 0}\n",
    "\n",
    "training_loader = DataLoader(training_set, **train_params)\n",
    "testing_loader = DataLoader(testing_set, **test_params)"
   ]
  },
  {
   "cell_type": "markdown",
   "metadata": {
    "id": "HnkqpeAkE9wL"
   },
   "source": [
    "### Fine Tuning Functions"
   ]
  },
  {
   "cell_type": "code",
   "execution_count": 52,
   "metadata": {
    "id": "NLnVtFQ6E9wM"
   },
   "outputs": [],
   "source": [
    "# Creating the loss function and optimizer\n",
    "loss_function = torch.nn.CrossEntropyLoss()\n",
    "optimizer = torch.optim.Adam(params =  model.parameters(), lr=LEARNING_RATE)"
   ]
  },
  {
   "cell_type": "code",
   "execution_count": 53,
   "metadata": {
    "id": "jyF2MALDE9wM"
   },
   "outputs": [],
   "source": [
    "def calcuate_accuracy(preds, targets):\n",
    "    n_correct = (preds==targets).sum().item()\n",
    "    return n_correct"
   ]
  },
  {
   "cell_type": "code",
   "execution_count": 54,
   "metadata": {
    "id": "VPbMBOgbRtFF"
   },
   "outputs": [],
   "source": [
    "# Training Loop with Early Stopping:**\n",
    "def train_model(epochs, file_name, model):\n",
    "  best_loss = float('inf')\n",
    "  best_model_weights = None\n",
    "  patience = 10\n",
    "\n",
    "  train_losses = []\n",
    "  valid_losses = []\n",
    "\n",
    "  model = model.to(device)\n",
    "  for epoch in range(1, epochs+1):\n",
    "    n_correct = 0\n",
    "    tr_loss = 0\n",
    "    nb_tr_steps = 0; nb_tr_examples = 0;\n",
    "\n",
    "    ###################\n",
    "    # train the model #\n",
    "    ###################\n",
    "    model.train()\n",
    "    for i, data in enumerate(tqdm(training_loader)):\n",
    "        ids = data['ids'].to(device, dtype = torch.long)\n",
    "        mask = data['mask'].to(device, dtype = torch.long)\n",
    "        token_type_ids = data['token_type_ids'].to(device, dtype = torch.long)\n",
    "        targets = data['target'].to(device, dtype = torch.long)\n",
    "\n",
    "        outputs = model(ids, mask, token_type_ids)\n",
    "        loss_ = loss_function(outputs.logits, targets)\n",
    "\n",
    "        tr_loss += loss_.item()\n",
    "        big_val, big_idx = torch.max(outputs.logits, dim=1)\n",
    "        n_correct += calcuate_accuracy(big_idx, targets)\n",
    "\n",
    "        nb_tr_steps += 1\n",
    "        nb_tr_examples+=targets.size(0)\n",
    "\n",
    "        if i%100==0:\n",
    "            step_loss = tr_loss/nb_tr_steps\n",
    "            step_acc = (n_correct*100)/nb_tr_examples\n",
    "            print(f\"Training Loss per 100 steps: {step_loss}\")\n",
    "            print(f\"Training Accuracy per 100 steps: {step_acc}\")\n",
    "            print(\"==\"*50)\n",
    "\n",
    "        optimizer.zero_grad()\n",
    "        loss_.backward()\n",
    "        # # When using GPU\n",
    "        optimizer.step()\n",
    "\n",
    "    print(f'The Total Accuracy for Epoch {epoch}: {(n_correct*100)/nb_tr_examples}')\n",
    "    train_epoch_loss = tr_loss/nb_tr_steps\n",
    "    train_epoch_acc = (n_correct*100)/nb_tr_examples\n",
    "    print(f\"Training Loss Epoch: {train_epoch_loss}\")\n",
    "    print(f\"Training Accuracy Epoch: {train_epoch_acc}\")\n",
    "    train_losses.append(train_epoch_loss)\n",
    "\n",
    "    # ######################\n",
    "    # # validate the model #\n",
    "    # ######################\n",
    "    # model.eval()  # Set model to evaluation mode\n",
    "    # val_n_correct = 0; val_n_wrong = 0; total = 0;\n",
    "    # val_loss = 0;\n",
    "    # nb_val_steps = 0; nb_val_example = 0;\n",
    "    # with torch.no_grad():  # Disable gradient calculation for validation\n",
    "    #     for i, data in enumerate(tqdm(testing_loader)):\n",
    "    #       ids = data['ids'].to(device, dtype = torch.long)\n",
    "    #       mask = data['mask'].to(device, dtype = torch.long)\n",
    "    #       token_type_ids = data['token_type_ids'].to(device, dtype=torch.long)\n",
    "    #       targets = data['target'].to(device, dtype = torch.long)\n",
    "\n",
    "    #       outputs = model(ids, mask, token_type_ids)\n",
    "    #       loss_ = loss_function(outputs.logits, targets)\n",
    "\n",
    "    #       val_loss += loss_.item()\n",
    "    #       big_val, big_idx = torch.max(outputs.logits, dim=1)\n",
    "    #       val_n_correct += calcuate_accuracy(big_idx, targets)\n",
    "\n",
    "    #       nb_val_steps += 1\n",
    "    #       nb_val_examples += targets.size(0)\n",
    "\n",
    "    #       if i%100==0:\n",
    "    #         step_loss = tr_loss/nb_tr_steps\n",
    "    #         step_acc = (n_correct*100)/nb_tr_examples\n",
    "    #         print(f\"Validation Loss per 100 steps: {step_loss}\")\n",
    "    #         print(f\"Validation Accuracy per 100 steps: {step_acc}\")\n",
    "\n",
    "    #       if val_loss < best_loss:\n",
    "    #         best_loss = val_loss\n",
    "    #         best_model_weights = copy.deepcopy(model.state_dict())\n",
    "    #         patience = 10  # Reset patience counter\n",
    "    #       else:\n",
    "    #         patient -= 1\n",
    "    #         if patient == 0:\n",
    "    #           print(\"=\"*50)\n",
    "    #           print(\"=\"*20, \"early stop\", \"=\"*20)\n",
    "    #           print(\"=\"*50)\n",
    "    #           break\n",
    "\n",
    "    # valid_epoch_loss = val_loss/nb_val_steps\n",
    "    # valid_epoch_accu = (val_n_correct*100)/nb_val_example\n",
    "    # print(f\"Validation Loss Epoch: {valid_epoch_loss}\")\n",
    "    # print(f\"Validation Accuracy Epoch: {valid_epoch_accu}\")\n",
    "    # valid_losses.append(valid_epoch_loss)\n",
    "\n",
    "\n",
    "    path = '/content/drive/MyDrive/Colab Notebooks/ai_text_detection/models/'+file_name+'_epoch'+str(epoch)+'.pth'\n",
    "    torch.save(model.state_dict(), path)\n",
    "\n",
    "  return train_losses, valid_losses"
   ]
  },
  {
   "cell_type": "code",
   "execution_count": 63,
   "metadata": {
    "colab": {
     "base_uri": "https://localhost:8080/"
    },
    "id": "w18RAjtzdiU_",
    "outputId": "7fc3456a-ccd0-46b3-f7ea-9d4947f80f1b"
   },
   "outputs": [
    {
     "name": "stderr",
     "output_type": "stream",
     "text": [
      "\r",
      "  0%|          | 0/496 [00:00<?, ?it/s]"
     ]
    },
    {
     "name": "stdout",
     "output_type": "stream",
     "text": [
      "Training Loss per 100 steps: 0.7031255960464478\n",
      "Training Accuracy per 100 steps: 87.5\n",
      "====================================================================================================\n"
     ]
    },
    {
     "name": "stderr",
     "output_type": "stream",
     "text": [
      " 20%|██        | 100/496 [01:50<07:19,  1.11s/it]"
     ]
    },
    {
     "name": "stdout",
     "output_type": "stream",
     "text": [
      "Training Loss per 100 steps: 0.5198084413267599\n",
      "Training Accuracy per 100 steps: 83.91089108910892\n",
      "====================================================================================================\n"
     ]
    },
    {
     "name": "stderr",
     "output_type": "stream",
     "text": [
      " 40%|████      | 200/496 [03:41<05:28,  1.11s/it]"
     ]
    },
    {
     "name": "stdout",
     "output_type": "stream",
     "text": [
      "Training Loss per 100 steps: 0.5553283661103515\n",
      "Training Accuracy per 100 steps: 83.3955223880597\n",
      "====================================================================================================\n"
     ]
    },
    {
     "name": "stderr",
     "output_type": "stream",
     "text": [
      " 60%|██████    | 300/496 [05:32<03:37,  1.11s/it]"
     ]
    },
    {
     "name": "stdout",
     "output_type": "stream",
     "text": [
      "Training Loss per 100 steps: 0.5559600055576658\n",
      "Training Accuracy per 100 steps: 83.80398671096346\n",
      "====================================================================================================\n"
     ]
    },
    {
     "name": "stderr",
     "output_type": "stream",
     "text": [
      " 81%|████████  | 400/496 [07:23<01:46,  1.10s/it]"
     ]
    },
    {
     "name": "stdout",
     "output_type": "stream",
     "text": [
      "Training Loss per 100 steps: 0.5571192507585627\n",
      "Training Accuracy per 100 steps: 83.8216957605985\n",
      "====================================================================================================\n"
     ]
    },
    {
     "name": "stderr",
     "output_type": "stream",
     "text": [
      "100%|██████████| 496/496 [09:09<00:00,  1.11s/it]\n"
     ]
    },
    {
     "name": "stdout",
     "output_type": "stream",
     "text": [
      "The Total Accuracy for Epoch 1: 83.5561160151324\n",
      "Training Loss Epoch: 0.5589507854864707\n",
      "Training Accuracy Epoch: 83.5561160151324\n"
     ]
    },
    {
     "name": "stderr",
     "output_type": "stream",
     "text": [
      "\r",
      "  0%|          | 0/496 [00:00<?, ?it/s]"
     ]
    },
    {
     "name": "stdout",
     "output_type": "stream",
     "text": [
      "Training Loss per 100 steps: 1.6776599884033203\n",
      "Training Accuracy per 100 steps: 75.0\n",
      "====================================================================================================\n"
     ]
    },
    {
     "name": "stderr",
     "output_type": "stream",
     "text": [
      " 20%|██        | 100/496 [01:50<07:23,  1.12s/it]"
     ]
    },
    {
     "name": "stdout",
     "output_type": "stream",
     "text": [
      "Training Loss per 100 steps: 0.5222560936668058\n",
      "Training Accuracy per 100 steps: 84.77722772277228\n",
      "====================================================================================================\n"
     ]
    },
    {
     "name": "stderr",
     "output_type": "stream",
     "text": [
      " 40%|████      | 200/496 [03:41<05:27,  1.11s/it]"
     ]
    },
    {
     "name": "stdout",
     "output_type": "stream",
     "text": [
      "Training Loss per 100 steps: 0.5769979786475314\n",
      "Training Accuracy per 100 steps: 83.33333333333333\n",
      "====================================================================================================\n"
     ]
    },
    {
     "name": "stderr",
     "output_type": "stream",
     "text": [
      " 60%|██████    | 300/496 [05:32<03:37,  1.11s/it]"
     ]
    },
    {
     "name": "stdout",
     "output_type": "stream",
     "text": [
      "Training Loss per 100 steps: 0.5503550191855435\n",
      "Training Accuracy per 100 steps: 83.63787375415282\n",
      "====================================================================================================\n"
     ]
    },
    {
     "name": "stderr",
     "output_type": "stream",
     "text": [
      " 81%|████████  | 400/496 [07:23<01:46,  1.11s/it]"
     ]
    },
    {
     "name": "stdout",
     "output_type": "stream",
     "text": [
      "Training Loss per 100 steps: 0.5658189091736223\n",
      "Training Accuracy per 100 steps: 83.22942643391521\n",
      "====================================================================================================\n"
     ]
    },
    {
     "name": "stderr",
     "output_type": "stream",
     "text": [
      "100%|██████████| 496/496 [09:10<00:00,  1.11s/it]\n"
     ]
    },
    {
     "name": "stdout",
     "output_type": "stream",
     "text": [
      "The Total Accuracy for Epoch 2: 83.95964691046659\n",
      "Training Loss Epoch: 0.555270833052477\n",
      "Training Accuracy Epoch: 83.95964691046659\n"
     ]
    },
    {
     "name": "stderr",
     "output_type": "stream",
     "text": [
      "\r",
      "  0%|          | 0/496 [00:00<?, ?it/s]"
     ]
    },
    {
     "name": "stdout",
     "output_type": "stream",
     "text": [
      "Training Loss per 100 steps: 0.12199705839157104\n",
      "Training Accuracy per 100 steps: 100.0\n",
      "====================================================================================================\n"
     ]
    },
    {
     "name": "stderr",
     "output_type": "stream",
     "text": [
      " 20%|██        | 100/496 [01:50<07:22,  1.12s/it]"
     ]
    },
    {
     "name": "stdout",
     "output_type": "stream",
     "text": [
      "Training Loss per 100 steps: 0.5885796867274117\n",
      "Training Accuracy per 100 steps: 83.7871287128713\n",
      "====================================================================================================\n"
     ]
    },
    {
     "name": "stderr",
     "output_type": "stream",
     "text": [
      " 40%|████      | 200/496 [03:41<05:29,  1.11s/it]"
     ]
    },
    {
     "name": "stdout",
     "output_type": "stream",
     "text": [
      "Training Loss per 100 steps: 0.5667090179463524\n",
      "Training Accuracy per 100 steps: 84.32835820895522\n",
      "====================================================================================================\n"
     ]
    },
    {
     "name": "stderr",
     "output_type": "stream",
     "text": [
      " 60%|██████    | 300/496 [05:33<03:38,  1.11s/it]"
     ]
    },
    {
     "name": "stdout",
     "output_type": "stream",
     "text": [
      "Training Loss per 100 steps: 0.5505517761461264\n",
      "Training Accuracy per 100 steps: 84.59302325581395\n",
      "====================================================================================================\n"
     ]
    },
    {
     "name": "stderr",
     "output_type": "stream",
     "text": [
      " 81%|████████  | 400/496 [07:24<01:46,  1.11s/it]"
     ]
    },
    {
     "name": "stdout",
     "output_type": "stream",
     "text": [
      "Training Loss per 100 steps: 0.5587301412527623\n",
      "Training Accuracy per 100 steps: 84.03990024937656\n",
      "====================================================================================================\n"
     ]
    },
    {
     "name": "stderr",
     "output_type": "stream",
     "text": [
      "100%|██████████| 496/496 [09:10<00:00,  1.11s/it]\n"
     ]
    },
    {
     "name": "stdout",
     "output_type": "stream",
     "text": [
      "The Total Accuracy for Epoch 3: 84.01008827238336\n",
      "Training Loss Epoch: 0.5591309158311736\n",
      "Training Accuracy Epoch: 84.01008827238336\n"
     ]
    },
    {
     "name": "stderr",
     "output_type": "stream",
     "text": [
      "\r",
      "  0%|          | 0/496 [00:00<?, ?it/s]"
     ]
    },
    {
     "name": "stdout",
     "output_type": "stream",
     "text": [
      "Training Loss per 100 steps: 0.45658066868782043\n",
      "Training Accuracy per 100 steps: 87.5\n",
      "====================================================================================================\n"
     ]
    },
    {
     "name": "stderr",
     "output_type": "stream",
     "text": [
      " 20%|██        | 100/496 [01:50<07:22,  1.12s/it]"
     ]
    },
    {
     "name": "stdout",
     "output_type": "stream",
     "text": [
      "Training Loss per 100 steps: 0.6353326649543377\n",
      "Training Accuracy per 100 steps: 81.55940594059406\n",
      "====================================================================================================\n"
     ]
    },
    {
     "name": "stderr",
     "output_type": "stream",
     "text": [
      " 40%|████      | 200/496 [03:42<05:30,  1.12s/it]"
     ]
    },
    {
     "name": "stdout",
     "output_type": "stream",
     "text": [
      "Training Loss per 100 steps: 0.5853137497266578\n",
      "Training Accuracy per 100 steps: 82.96019900497512\n",
      "====================================================================================================\n"
     ]
    },
    {
     "name": "stderr",
     "output_type": "stream",
     "text": [
      " 60%|██████    | 300/496 [05:33<03:36,  1.11s/it]"
     ]
    },
    {
     "name": "stdout",
     "output_type": "stream",
     "text": [
      "Training Loss per 100 steps: 0.5735118876016417\n",
      "Training Accuracy per 100 steps: 83.34717607973423\n",
      "====================================================================================================\n"
     ]
    },
    {
     "name": "stderr",
     "output_type": "stream",
     "text": [
      " 81%|████████  | 400/496 [07:24<01:46,  1.11s/it]"
     ]
    },
    {
     "name": "stdout",
     "output_type": "stream",
     "text": [
      "Training Loss per 100 steps: 0.5700660363905726\n",
      "Training Accuracy per 100 steps: 83.16708229426433\n",
      "====================================================================================================\n"
     ]
    },
    {
     "name": "stderr",
     "output_type": "stream",
     "text": [
      "100%|██████████| 496/496 [09:10<00:00,  1.11s/it]\n"
     ]
    },
    {
     "name": "stdout",
     "output_type": "stream",
     "text": [
      "The Total Accuracy for Epoch 4: 83.203026481715\n",
      "Training Loss Epoch: 0.5654975044805812\n",
      "Training Accuracy Epoch: 83.203026481715\n"
     ]
    }
   ],
   "source": [
    "train_losses, valid_losses = train_model(4, str('23May2024_2'), model)"
   ]
  },
  {
   "cell_type": "code",
   "execution_count": 64,
   "metadata": {
    "colab": {
     "base_uri": "https://localhost:8080/"
    },
    "id": "lD_0ukY11lVK",
    "outputId": "c13f6dc6-5ed4-461e-a3a0-2468206427ce"
   },
   "outputs": [
    {
     "data": {
      "text/plain": [
       "([0.5589507854864707,\n",
       "  0.555270833052477,\n",
       "  0.5591309158311736,\n",
       "  0.5654975044805812],\n",
       " [])"
      ]
     },
     "execution_count": 64,
     "metadata": {},
     "output_type": "execute_result"
    }
   ],
   "source": [
    "train_losses, valid_losses"
   ]
  },
  {
   "cell_type": "code",
   "execution_count": 42,
   "metadata": {
    "id": "eXXVGn48E9wN"
   },
   "outputs": [],
   "source": [
    "# Defining the training function on the 80% of the dataset for tuning the distilbert model\n",
    "def train(epoch, model, device):\n",
    "    tr_loss = 0\n",
    "    n_correct = 0\n",
    "    nb_tr_steps = 0\n",
    "    nb_tr_examples = 0\n",
    "    model = model.to(device)\n",
    "    model.train()\n",
    "\n",
    "    # for i, data in tqdm(enumerate(training_loader, 0), total=len(training_loader)):\n",
    "    # for _, data in tqdm(enumerate(training_loader, 0)):\n",
    "    for i, data in enumerate(tqdm(training_loader)):\n",
    "        ids = data['ids'].to(device, dtype = torch.long)\n",
    "        mask = data['mask'].to(device, dtype = torch.long)\n",
    "        token_type_ids = data['token_type_ids'].to(device, dtype = torch.long)\n",
    "        targets = data['target'].to(device, dtype = torch.long)\n",
    "\n",
    "        outputs = model(ids, mask, token_type_ids)\n",
    "        loss = loss_function(outputs.logits, targets)\n",
    "\n",
    "        tr_loss += loss.item()\n",
    "        big_val, big_idx = torch.max(outputs.logits, dim=1)\n",
    "        n_correct += calcuate_accuracy(big_idx, targets)\n",
    "\n",
    "        nb_tr_steps += 1\n",
    "        nb_tr_examples+=targets.size(0)\n",
    "\n",
    "        if i%100==0:\n",
    "            step_loss = tr_loss/nb_tr_steps\n",
    "            step_acc = (n_correct*100)/nb_tr_examples\n",
    "            print(f\"Training Loss per 100 steps: {step_loss}\")\n",
    "            print(f\"Training Accuracy per 100 steps: {step_acc}\")\n",
    "            print(\"==\"*50)\n",
    "\n",
    "        optimizer.zero_grad()\n",
    "        loss.backward()\n",
    "        # # When using GPU\n",
    "        optimizer.step()\n",
    "\n",
    "    print(f'The Total Accuracy for Epoch {epoch}: {(n_correct*100)/nb_tr_examples}')\n",
    "    epoch_loss = tr_loss/nb_tr_steps\n",
    "    epoch_acc = (n_correct*100)/nb_tr_examples\n",
    "    print(f\"Training Loss Epoch: {epoch_loss}\")\n",
    "    print(f\"Training Accuracy Epoch: {epoch_acc}\")\n",
    "\n",
    "    return epoch_loss, epoch_acc, step_loss, step_acc"
   ]
  },
  {
   "cell_type": "markdown",
   "metadata": {},
   "source": [
    "### Fine Tuning without checking validation error"
   ]
  },
  {
   "cell_type": "code",
   "execution_count": 95,
   "metadata": {},
   "outputs": [],
   "source": [
    "import gc\n",
    "gc.collect()\n",
    "torch.cuda.empty_cache()"
   ]
  },
  {
   "cell_type": "code",
   "execution_count": 61,
   "metadata": {
    "colab": {
     "base_uri": "https://localhost:8080/",
     "height": 1000
    },
    "collapsed": true,
    "id": "_HKcT-E0E9wO",
    "jupyter": {
     "outputs_hidden": true
    },
    "outputId": "63b71508-2b47-47f3-f058-2e5b97db880e",
    "scrolled": true
   },
   "outputs": [
    {
     "name": "stderr",
     "output_type": "stream",
     "text": [
      "  0%|                                                     | 0/496 [00:00<?, ?it/s]"
     ]
    },
    {
     "name": "stdout",
     "output_type": "stream",
     "text": [
      "Training Loss per 100 steps: 0.6350618004798889\n",
      "Training Accuracy per 100 steps: 75.0\n",
      "====================================================================================================\n"
     ]
    },
    {
     "name": "stderr",
     "output_type": "stream",
     "text": [
      " 20%|████████▊                                  | 101/496 [00:39<02:34,  2.56it/s]"
     ]
    },
    {
     "name": "stdout",
     "output_type": "stream",
     "text": [
      "Training Loss per 100 steps: 0.161789864219845\n",
      "Training Accuracy per 100 steps: 94.05940594059406\n",
      "====================================================================================================\n"
     ]
    },
    {
     "name": "stderr",
     "output_type": "stream",
     "text": [
      " 41%|█████████████████▍                         | 201/496 [01:18<01:55,  2.56it/s]"
     ]
    },
    {
     "name": "stdout",
     "output_type": "stream",
     "text": [
      "Training Loss per 100 steps: 0.11646890107933802\n",
      "Training Accuracy per 100 steps: 95.58457711442786\n",
      "====================================================================================================\n"
     ]
    },
    {
     "name": "stderr",
     "output_type": "stream",
     "text": [
      " 61%|██████████████████████████                 | 301/496 [01:57<01:16,  2.56it/s]"
     ]
    },
    {
     "name": "stdout",
     "output_type": "stream",
     "text": [
      "Training Loss per 100 steps: 0.11783986132993422\n",
      "Training Accuracy per 100 steps: 95.59800664451828\n",
      "====================================================================================================\n"
     ]
    },
    {
     "name": "stderr",
     "output_type": "stream",
     "text": [
      " 81%|██████████████████████████████████▊        | 401/496 [02:36<00:37,  2.56it/s]"
     ]
    },
    {
     "name": "stdout",
     "output_type": "stream",
     "text": [
      "Training Loss per 100 steps: 0.10597007502055614\n",
      "Training Accuracy per 100 steps: 96.16583541147132\n",
      "====================================================================================================\n"
     ]
    },
    {
     "name": "stderr",
     "output_type": "stream",
     "text": [
      "100%|███████████████████████████████████████████| 496/496 [03:13<00:00,  2.56it/s]\n"
     ]
    },
    {
     "name": "stdout",
     "output_type": "stream",
     "text": [
      "The Total Accuracy for Epoch 0: 96.54476670870113\n",
      "Training Loss Epoch: 0.09538349798611072\n",
      "Training Accuracy Epoch: 96.54476670870113\n"
     ]
    },
    {
     "name": "stderr",
     "output_type": "stream",
     "text": [
      "  0%|                                             | 1/496 [00:00<01:38,  5.04it/s]"
     ]
    },
    {
     "name": "stdout",
     "output_type": "stream",
     "text": [
      "Training Loss per 100 steps: 0.019245991483330727\n",
      "Training Accuracy per 100 steps: 100.0\n",
      "====================================================================================================\n"
     ]
    },
    {
     "name": "stderr",
     "output_type": "stream",
     "text": [
      " 20%|████████▊                                  | 101/496 [00:39<02:34,  2.55it/s]"
     ]
    },
    {
     "name": "stdout",
     "output_type": "stream",
     "text": [
      "Training Loss per 100 steps: 0.02593569398314766\n",
      "Training Accuracy per 100 steps: 99.38118811881188\n",
      "====================================================================================================\n"
     ]
    },
    {
     "name": "stderr",
     "output_type": "stream",
     "text": [
      " 41%|█████████████████▍                         | 201/496 [01:18<01:55,  2.55it/s]"
     ]
    },
    {
     "name": "stdout",
     "output_type": "stream",
     "text": [
      "Training Loss per 100 steps: 0.02813964438669856\n",
      "Training Accuracy per 100 steps: 99.31592039800995\n",
      "====================================================================================================\n"
     ]
    },
    {
     "name": "stderr",
     "output_type": "stream",
     "text": [
      " 61%|██████████████████████████                 | 301/496 [01:57<01:16,  2.55it/s]"
     ]
    },
    {
     "name": "stdout",
     "output_type": "stream",
     "text": [
      "Training Loss per 100 steps: 0.02554208322941013\n",
      "Training Accuracy per 100 steps: 99.25249169435216\n",
      "====================================================================================================\n"
     ]
    },
    {
     "name": "stderr",
     "output_type": "stream",
     "text": [
      " 81%|██████████████████████████████████▊        | 401/496 [02:36<00:37,  2.55it/s]"
     ]
    },
    {
     "name": "stdout",
     "output_type": "stream",
     "text": [
      "Training Loss per 100 steps: 0.02392187034613987\n",
      "Training Accuracy per 100 steps: 99.28304239401496\n",
      "====================================================================================================\n"
     ]
    },
    {
     "name": "stderr",
     "output_type": "stream",
     "text": [
      "100%|███████████████████████████████████████████| 496/496 [03:13<00:00,  2.56it/s]\n"
     ]
    },
    {
     "name": "stdout",
     "output_type": "stream",
     "text": [
      "The Total Accuracy for Epoch 1: 99.21815889029004\n",
      "Training Loss Epoch: 0.02642844717111955\n",
      "Training Accuracy Epoch: 99.21815889029004\n"
     ]
    },
    {
     "name": "stderr",
     "output_type": "stream",
     "text": [
      "  0%|                                             | 1/496 [00:00<01:35,  5.16it/s]"
     ]
    },
    {
     "name": "stdout",
     "output_type": "stream",
     "text": [
      "Training Loss per 100 steps: 0.025118637830018997\n",
      "Training Accuracy per 100 steps: 100.0\n",
      "====================================================================================================\n"
     ]
    },
    {
     "name": "stderr",
     "output_type": "stream",
     "text": [
      " 20%|████████▊                                  | 101/496 [00:39<02:34,  2.55it/s]"
     ]
    },
    {
     "name": "stdout",
     "output_type": "stream",
     "text": [
      "Training Loss per 100 steps: 0.05435948150931502\n",
      "Training Accuracy per 100 steps: 98.01980198019803\n",
      "====================================================================================================\n"
     ]
    },
    {
     "name": "stderr",
     "output_type": "stream",
     "text": [
      " 41%|█████████████████▍                         | 201/496 [01:18<01:55,  2.55it/s]"
     ]
    },
    {
     "name": "stdout",
     "output_type": "stream",
     "text": [
      "Training Loss per 100 steps: 0.04124121629380776\n",
      "Training Accuracy per 100 steps: 98.50746268656717\n",
      "====================================================================================================\n"
     ]
    },
    {
     "name": "stderr",
     "output_type": "stream",
     "text": [
      " 61%|██████████████████████████                 | 301/496 [01:57<01:16,  2.55it/s]"
     ]
    },
    {
     "name": "stdout",
     "output_type": "stream",
     "text": [
      "Training Loss per 100 steps: 0.03577621777517183\n",
      "Training Accuracy per 100 steps: 98.67109634551495\n",
      "====================================================================================================\n"
     ]
    },
    {
     "name": "stderr",
     "output_type": "stream",
     "text": [
      " 81%|██████████████████████████████████▊        | 401/496 [02:36<00:37,  2.55it/s]"
     ]
    },
    {
     "name": "stdout",
     "output_type": "stream",
     "text": [
      "Training Loss per 100 steps: 0.029990090859532494\n",
      "Training Accuracy per 100 steps: 98.90897755610973\n",
      "====================================================================================================\n"
     ]
    },
    {
     "name": "stderr",
     "output_type": "stream",
     "text": [
      "100%|███████████████████████████████████████████| 496/496 [03:14<00:00,  2.55it/s]\n"
     ]
    },
    {
     "name": "stdout",
     "output_type": "stream",
     "text": [
      "The Total Accuracy for Epoch 2: 98.94073139974779\n",
      "Training Loss Epoch: 0.028778374794866626\n",
      "Training Accuracy Epoch: 98.94073139974779\n"
     ]
    },
    {
     "name": "stderr",
     "output_type": "stream",
     "text": [
      "  0%|                                             | 1/496 [00:00<01:34,  5.24it/s]"
     ]
    },
    {
     "name": "stdout",
     "output_type": "stream",
     "text": [
      "Training Loss per 100 steps: 0.0018950925441458821\n",
      "Training Accuracy per 100 steps: 100.0\n",
      "====================================================================================================\n"
     ]
    },
    {
     "name": "stderr",
     "output_type": "stream",
     "text": [
      " 20%|████████▊                                  | 101/496 [00:39<02:34,  2.55it/s]"
     ]
    },
    {
     "name": "stdout",
     "output_type": "stream",
     "text": [
      "Training Loss per 100 steps: 0.003023727395569463\n",
      "Training Accuracy per 100 steps: 99.87623762376238\n",
      "====================================================================================================\n"
     ]
    },
    {
     "name": "stderr",
     "output_type": "stream",
     "text": [
      " 41%|█████████████████▍                         | 201/496 [01:18<01:55,  2.55it/s]"
     ]
    },
    {
     "name": "stdout",
     "output_type": "stream",
     "text": [
      "Training Loss per 100 steps: 0.01524479753877597\n",
      "Training Accuracy per 100 steps: 99.68905472636816\n",
      "====================================================================================================\n"
     ]
    },
    {
     "name": "stderr",
     "output_type": "stream",
     "text": [
      " 61%|██████████████████████████                 | 301/496 [01:57<01:16,  2.55it/s]"
     ]
    },
    {
     "name": "stdout",
     "output_type": "stream",
     "text": [
      "Training Loss per 100 steps: 0.020132176766494612\n",
      "Training Accuracy per 100 steps: 99.46013289036544\n",
      "====================================================================================================\n"
     ]
    },
    {
     "name": "stderr",
     "output_type": "stream",
     "text": [
      " 81%|██████████████████████████████████▊        | 401/496 [02:37<00:37,  2.55it/s]"
     ]
    },
    {
     "name": "stdout",
     "output_type": "stream",
     "text": [
      "Training Loss per 100 steps: 0.018579235500519622\n",
      "Training Accuracy per 100 steps: 99.50124688279301\n",
      "====================================================================================================\n"
     ]
    },
    {
     "name": "stderr",
     "output_type": "stream",
     "text": [
      "100%|███████████████████████████████████████████| 496/496 [03:14<00:00,  2.55it/s]\n"
     ]
    },
    {
     "name": "stdout",
     "output_type": "stream",
     "text": [
      "The Total Accuracy for Epoch 3: 99.49558638083228\n",
      "Training Loss Epoch: 0.018037250458233286\n",
      "Training Accuracy Epoch: 99.49558638083228\n"
     ]
    },
    {
     "name": "stderr",
     "output_type": "stream",
     "text": [
      "  0%|                                             | 1/496 [00:00<01:38,  5.02it/s]"
     ]
    },
    {
     "name": "stdout",
     "output_type": "stream",
     "text": [
      "Training Loss per 100 steps: 0.005420683417469263\n",
      "Training Accuracy per 100 steps: 100.0\n",
      "====================================================================================================\n"
     ]
    },
    {
     "name": "stderr",
     "output_type": "stream",
     "text": [
      " 20%|████████▊                                  | 101/496 [00:39<02:35,  2.55it/s]"
     ]
    },
    {
     "name": "stdout",
     "output_type": "stream",
     "text": [
      "Training Loss per 100 steps: 0.01965596848588188\n",
      "Training Accuracy per 100 steps: 99.75247524752476\n",
      "====================================================================================================\n"
     ]
    },
    {
     "name": "stderr",
     "output_type": "stream",
     "text": [
      " 41%|█████████████████▍                         | 201/496 [01:18<01:55,  2.55it/s]"
     ]
    },
    {
     "name": "stdout",
     "output_type": "stream",
     "text": [
      "Training Loss per 100 steps: 0.01212998272692414\n",
      "Training Accuracy per 100 steps: 99.81343283582089\n",
      "====================================================================================================\n"
     ]
    },
    {
     "name": "stderr",
     "output_type": "stream",
     "text": [
      " 61%|██████████████████████████                 | 301/496 [01:57<01:16,  2.55it/s]"
     ]
    },
    {
     "name": "stdout",
     "output_type": "stream",
     "text": [
      "Training Loss per 100 steps: 0.010782920191450465\n",
      "Training Accuracy per 100 steps: 99.70930232558139\n",
      "====================================================================================================\n"
     ]
    },
    {
     "name": "stderr",
     "output_type": "stream",
     "text": [
      " 81%|██████████████████████████████████▊        | 401/496 [02:37<00:37,  2.55it/s]"
     ]
    },
    {
     "name": "stdout",
     "output_type": "stream",
     "text": [
      "Training Loss per 100 steps: 0.011466645034826407\n",
      "Training Accuracy per 100 steps: 99.6571072319202\n",
      "====================================================================================================\n"
     ]
    },
    {
     "name": "stderr",
     "output_type": "stream",
     "text": [
      "100%|███████████████████████████████████████████| 496/496 [03:14<00:00,  2.55it/s]\n"
     ]
    },
    {
     "name": "stdout",
     "output_type": "stream",
     "text": [
      "The Total Accuracy for Epoch 4: 99.62168978562421\n",
      "Training Loss Epoch: 0.013993044867088283\n",
      "Training Accuracy Epoch: 99.62168978562421\n"
     ]
    }
   ],
   "source": [
    "EPOCHS = 5\n",
    "\n",
    "train_result = []\n",
    "for epoch in range(EPOCHS):\n",
    "    train_result.append(train(epoch, model, device))\n",
    "\n",
    "    # with gpt paraphrased data, epoch=10\n",
    "    file_name = \"\".join('../models/openai_finetune_models/20240523_v1_epoch'+str(epoch)+'.pth')\n",
    "    torch.save(model, file_name)"
   ]
  },
  {
   "cell_type": "code",
   "execution_count": 87,
   "metadata": {},
   "outputs": [
    {
     "data": {
      "image/png": "[encoded data removed]",
      "text/plain": [
       "<Figure size 800x400 with 2 Axes>"
      ]
     },
     "metadata": {},
     "output_type": "display_data"
    }
   ],
   "source": [
    "# Create a figure with two subplots\n",
    "fig, (ax1, ax2) = plt.subplots(1, 2, figsize=(8, 4))\n",
    "\n",
    "# Plot the loss curve on the first subplot\n",
    "ax1.plot(range(len(train_result)), [item[0] for item in train_result], label=\"loss\")\n",
    "ax1.set_xlabel('Epoch')\n",
    "ax1.set_ylabel('Loss')\n",
    "ax1.set_title('Training Loss Curve')\n",
    "ax1.legend()\n",
    "\n",
    "# Plot another metric on the second subplot\n",
    "# Replace the following line with your desired plot\n",
    "ax2.plot(range(len(train_result)), [item[1] for item in train_result], label=\"accuracy\")\n",
    "ax2.set_xlabel('Epoch')\n",
    "ax2.set_ylabel('Accuracy')\n",
    "ax2.set_title('Training Accuracy Curve')\n",
    "ax2.legend()\n",
    "\n",
    "# Adjust the spacing between subplots\n",
    "plt.subplots_adjust(wspace=0.3)\n",
    "\n",
    "# Show the plot\n",
    "plt.show()"
   ]
  },
  {
   "cell_type": "code",
   "execution_count": 82,
   "metadata": {},
   "outputs": [
    {
     "name": "stderr",
     "output_type": "stream",
     "text": [
      "huggingface/tokenizers: The current process just got forked, after parallelism has already been used. Disabling parallelism to avoid deadlocks...\n",
      "To disable this warning, you can either:\n",
      "\t- Avoid using `tokenizers` before the fork if possible\n",
      "\t- Explicitly set the environment variable TOKENIZERS_PARALLELISM=(true | false)\n"
     ]
    },
    {
     "name": "stdout",
     "output_type": "stream",
     "text": [
      "/home/bobae/miniconda3/envs/ai_detector/lib/python3.10/site-packages/transformers/tokenization_utils_base.py:2699: FutureWarning: The `pad_to_max_length` argument is deprecated and will be removed in a future version, use `padding=True` or `padding='longest'` to pad to the longest sequence in the batch, or use `padding='max_length'` to pad to a max length. In this case, you can give a specific length with `max_length` (e.g. `max_length=45`) or leave max_length to None to pad to the maximal input size of the model (e.g. 512 for Bert).\n",
      "  warnings.warn(\n",
      "{'Fake': 0.37054572, 'Real': 0.6294543}\n"
     ]
    },
    {
     "name": "stderr",
     "output_type": "stream",
     "text": [
      "huggingface/tokenizers: The current process just got forked, after parallelism has already been used. Disabling parallelism to avoid deadlocks...\n",
      "To disable this warning, you can either:\n",
      "\t- Avoid using `tokenizers` before the fork if possible\n",
      "\t- Explicitly set the environment variable TOKENIZERS_PARALLELISM=(true | false)\n"
     ]
    },
    {
     "name": "stdout",
     "output_type": "stream",
     "text": [
      "/home/bobae/miniconda3/envs/ai_detector/lib/python3.10/site-packages/transformers/tokenization_utils_base.py:2699: FutureWarning: The `pad_to_max_length` argument is deprecated and will be removed in a future version, use `padding=True` or `padding='longest'` to pad to the longest sequence in the batch, or use `padding='max_length'` to pad to a max length. In this case, you can give a specific length with `max_length` (e.g. `max_length=45`) or leave max_length to None to pad to the maximal input size of the model (e.g. 512 for Bert).\n",
      "  warnings.warn(\n",
      "{'Fake': 0.3325712, 'Real': 0.6674288}\n"
     ]
    },
    {
     "name": "stderr",
     "output_type": "stream",
     "text": [
      "huggingface/tokenizers: The current process just got forked, after parallelism has already been used. Disabling parallelism to avoid deadlocks...\n",
      "To disable this warning, you can either:\n",
      "\t- Avoid using `tokenizers` before the fork if possible\n",
      "\t- Explicitly set the environment variable TOKENIZERS_PARALLELISM=(true | false)\n"
     ]
    },
    {
     "name": "stdout",
     "output_type": "stream",
     "text": [
      "/home/bobae/miniconda3/envs/ai_detector/lib/python3.10/site-packages/transformers/tokenization_utils_base.py:2699: FutureWarning: The `pad_to_max_length` argument is deprecated and will be removed in a future version, use `padding=True` or `padding='longest'` to pad to the longest sequence in the batch, or use `padding='max_length'` to pad to a max length. In this case, you can give a specific length with `max_length` (e.g. `max_length=45`) or leave max_length to None to pad to the maximal input size of the model (e.g. 512 for Bert).\n",
      "  warnings.warn(\n",
      "{'Fake': 0.43663213, 'Real': 0.5633679}\n"
     ]
    },
    {
     "name": "stderr",
     "output_type": "stream",
     "text": [
      "huggingface/tokenizers: The current process just got forked, after parallelism has already been used. Disabling parallelism to avoid deadlocks...\n",
      "To disable this warning, you can either:\n",
      "\t- Avoid using `tokenizers` before the fork if possible\n",
      "\t- Explicitly set the environment variable TOKENIZERS_PARALLELISM=(true | false)\n"
     ]
    },
    {
     "name": "stdout",
     "output_type": "stream",
     "text": [
      "/home/bobae/miniconda3/envs/ai_detector/lib/python3.10/site-packages/transformers/tokenization_utils_base.py:2699: FutureWarning: The `pad_to_max_length` argument is deprecated and will be removed in a future version, use `padding=True` or `padding='longest'` to pad to the longest sequence in the batch, or use `padding='max_length'` to pad to a max length. In this case, you can give a specific length with `max_length` (e.g. `max_length=45`) or leave max_length to None to pad to the maximal input size of the model (e.g. 512 for Bert).\n",
      "  warnings.warn(\n",
      "{'Fake': 0.17202552, 'Real': 0.82797444}\n"
     ]
    },
    {
     "name": "stderr",
     "output_type": "stream",
     "text": [
      "huggingface/tokenizers: The current process just got forked, after parallelism has already been used. Disabling parallelism to avoid deadlocks...\n",
      "To disable this warning, you can either:\n",
      "\t- Avoid using `tokenizers` before the fork if possible\n",
      "\t- Explicitly set the environment variable TOKENIZERS_PARALLELISM=(true | false)\n"
     ]
    },
    {
     "name": "stdout",
     "output_type": "stream",
     "text": [
      "/home/bobae/miniconda3/envs/ai_detector/lib/python3.10/site-packages/transformers/tokenization_utils_base.py:2699: FutureWarning: The `pad_to_max_length` argument is deprecated and will be removed in a future version, use `padding=True` or `padding='longest'` to pad to the longest sequence in the batch, or use `padding='max_length'` to pad to a max length. In this case, you can give a specific length with `max_length` (e.g. `max_length=45`) or leave max_length to None to pad to the maximal input size of the model (e.g. 512 for Bert).\n",
      "  warnings.warn(\n",
      "{'Fake': 0.11006163, 'Real': 0.88993835}\n"
     ]
    }
   ],
   "source": [
    "# test\n",
    "!python ../models/openai_finetune_detector.py --model_name \"20240523_v1_epoch0.pth\" --text \"My name is bobae bak\" \n",
    "!python ../models/openai_finetune_detector.py --model_name \"20240523_v1_epoch1.pth\" --text \"My name is bobae bak\" \n",
    "!python ../models/openai_finetune_detector.py --model_name \"20240523_v1_epoch2.pth\" --text \"My name is bobae bak\" \n",
    "!python ../models/openai_finetune_detector.py --model_name \"20240523_v1_epoch3.pth\" --text \"My name is bobae bak\" \n",
    "!python ../models/openai_finetune_detector.py --model_name \"20240523_v1_epoch4.pth\" --text \"My name is bobae bak\" \n",
    "    "
   ]
  },
  {
   "cell_type": "markdown",
   "metadata": {},
   "source": [
    "### Validate"
   ]
  },
  {
   "cell_type": "code",
   "execution_count": 90,
   "metadata": {
    "id": "0di8SitGE9wP"
   },
   "outputs": [],
   "source": [
    "def valid(model, testing_loader):\n",
    "    model = model.to(device)\n",
    "    model.eval()\n",
    "    n_correct = 0; n_wrong = 0; total = 0; tr_loss=0; nb_tr_steps=0; nb_tr_examples=0\n",
    "    with torch.no_grad():\n",
    "        # for _, data in tqdm(enumerate(testing_loader, 0)):\n",
    "        for i, data in enumerate(iter(testing_loader)):\n",
    "            ids = data['ids'].to(device, dtype = torch.long)\n",
    "            mask = data['mask'].to(device, dtype = torch.long)\n",
    "            token_type_ids = data['token_type_ids'].to(device, dtype=torch.long)\n",
    "            targets = data['target'].to(device, dtype = torch.long)\n",
    "\n",
    "            outputs = model(ids, mask, token_type_ids)\n",
    "            loss = loss_function(outputs.logits, targets)\n",
    "\n",
    "            tr_loss += loss.item()\n",
    "            big_val, big_idx = torch.max(outputs.logits, dim=1)\n",
    "            n_correct += calcuate_accuracy(big_idx, targets)\n",
    "\n",
    "            nb_tr_steps += 1\n",
    "            nb_tr_examples+=targets.size(0)\n",
    "\n",
    "            if i%100==0:\n",
    "                loss_step = tr_loss/nb_tr_steps\n",
    "                accu_step = (n_correct*100)/nb_tr_examples\n",
    "                print(f\"Validation Loss per 100 steps: {loss_step}\")\n",
    "                print(f\"Validation Accuracy per 100 steps: {accu_step}\")\n",
    "    epoch_loss = tr_loss/nb_tr_steps\n",
    "    epoch_accu = (n_correct*100)/nb_tr_examples\n",
    "    print(f\"Validation Loss Epoch: {epoch_loss}\")\n",
    "    print(f\"Validation Accuracy Epoch: {epoch_accu}\")\n",
    "\n",
    "    return epoch_loss, epoch_accu"
   ]
  },
  {
   "cell_type": "code",
   "execution_count": 91,
   "metadata": {},
   "outputs": [
    {
     "name": "stderr",
     "output_type": "stream",
     "text": [
      "/home/bobae/miniconda3/envs/ai_detector/lib/python3.10/site-packages/transformers/tokenization_utils_base.py:2699: FutureWarning: The `pad_to_max_length` argument is deprecated and will be removed in a future version, use `padding=True` or `padding='longest'` to pad to the longest sequence in the batch, or use `padding='max_length'` to pad to a max length. In this case, you can give a specific length with `max_length` (e.g. `max_length=45`) or leave max_length to None to pad to the maximal input size of the model (e.g. 512 for Bert).\n",
      "  warnings.warn(\n"
     ]
    },
    {
     "name": "stdout",
     "output_type": "stream",
     "text": [
      "Validation Loss per 100 steps: 0.14860263466835022\n",
      "Validation Accuracy per 100 steps: 100.0\n",
      "Validation Loss per 100 steps: 0.08055920187167197\n",
      "Validation Accuracy per 100 steps: 96.65841584158416\n",
      "Validation Loss Epoch: 0.08093919815409238\n",
      "Validation Accuracy Epoch: 96.56912209889\n",
      "0.08093919815409238 96.56912209889\n"
     ]
    }
   ],
   "source": [
    "# model_1 validation\n",
    "model_1 = torch.load('../models/openai_finetune_models/20240523_v1_epoch0.pth')\n",
    "val_epoch_loss, val_epoch_acc = valid(model_1, testing_loader)\n",
    "print(val_epoch_loss, val_epoch_acc)"
   ]
  },
  {
   "cell_type": "code",
   "execution_count": 94,
   "metadata": {},
   "outputs": [
    {
     "name": "stdout",
     "output_type": "stream",
     "text": [
      "Validation Loss per 100 steps: 0.4960307776927948\n",
      "Validation Accuracy per 100 steps: 87.5\n",
      "Validation Loss per 100 steps: 0.07441227190342897\n",
      "Validation Accuracy per 100 steps: 98.26732673267327\n",
      "Validation Loss Epoch: 0.066691413367798\n",
      "Validation Accuracy Epoch: 98.38546922300706\n",
      "0.066691413367798 98.38546922300706\n"
     ]
    }
   ],
   "source": [
    "# model_4 validation\n",
    "\n",
    "model_4 = torch.load('../models/openai_finetune_models/20240523_v1_epoch4.pth')\n",
    "val_epoch_loss, val_epoch_acc = valid(model_4, testing_loader)\n",
    "print(val_epoch_loss, val_epoch_acc)"
   ]
  },
  {
   "cell_type": "code",
   "execution_count": 84,
   "metadata": {},
   "outputs": [],
   "source": []
  },
  {
   "cell_type": "code",
   "execution_count": null,
   "metadata": {
    "id": "tOywiBJgE9wT"
   },
   "outputs": [],
   "source": [
    "# output_model_file = 'pytorch_roberta_sentiment.bin'\n",
    "# output_vocab_file = './'\n",
    "\n",
    "# model_to_save = model\n",
    "# torch.save(model_to_save, output_model_file)\n",
    "# tokenizer.save_vocabulary(output_vocab_file)\n",
    "\n",
    "# print('All files saved')\n",
    "# print('This tutorial is completed')"
   ]
  },
  {
   "cell_type": "code",
   "execution_count": 96,
   "metadata": {},
   "outputs": [],
   "source": [
    "model_1 = None\n",
    "model_4 = None"
   ]
  }
 ],
 "metadata": {
  "accelerator": "GPU",
  "colab": {
   "gpuType": "T4",
   "provenance": []
  },
  "kernelspec": {
   "display_name": "Python 3 (ipykernel)",
   "language": "python",
   "name": "python3"
  },
  "language_info": {
   "codemirror_mode": {
    "name": "ipython",
    "version": 3
   },
   "file_extension": ".py",
   "mimetype": "text/x-python",
   "name": "python",
   "nbconvert_exporter": "python",
   "pygments_lexer": "ipython3",
   "version": "3.10.14"
  }
 },
 "nbformat": 4,
 "nbformat_minor": 4
}
