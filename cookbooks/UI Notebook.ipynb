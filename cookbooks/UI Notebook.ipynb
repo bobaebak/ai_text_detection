{
 "cells": [
  {
   "cell_type": "code",
   "execution_count": 1,
   "metadata": {},
   "outputs": [
    {
     "name": "stderr",
     "output_type": "stream",
     "text": [
      "/Users/bobaebak/anaconda3/envs/detect_gpt_env/lib/python3.11/site-packages/gradio/interface.py:374: UserWarning: The `allow_flagging` parameter in `Interface` nowtakes a string value ('auto', 'manual', or 'never'), not a boolean. Setting parameter to: 'never'.\n",
      "  warnings.warn(\n"
     ]
    },
    {
     "name": "stdout",
     "output_type": "stream",
     "text": [
      "Running on local URL:  http://127.0.0.1:7860\n",
      "\n",
      "To create a public link, set `share=True` in `launch()`.\n"
     ]
    },
    {
     "data": {
      "text/html": [
       "<div><iframe src=\"http://127.0.0.1:7860/\" width=\"100%\" height=\"500\" allow=\"autoplay; camera; microphone; clipboard-read; clipboard-write;\" frameborder=\"0\" allowfullscreen></iframe></div>"
      ],
      "text/plain": [
       "<IPython.core.display.HTML object>"
      ]
     },
     "metadata": {},
     "output_type": "display_data"
    },
    {
     "data": {
      "text/plain": []
     },
     "execution_count": 1,
     "metadata": {},
     "output_type": "execute_result"
    }
   ],
   "source": [
    "import gradio as gr\n",
    "\n",
    "# Define a function to classify text\n",
    "def classify_text(input_text):\n",
    "    # Here you would perform the classification of the input_text\n",
    "    # For demonstration purposes, let's assume it's a dummy classification\n",
    "    classification_result = \"Machine-generated\" if len(input_text) > 50 else \"Human-generated\"\n",
    "    \n",
    "    # Return the classification result\n",
    "    return {\"text\": input_text, \"label\": classification_result}\n",
    "\n",
    "# Create a Gradio interface\n",
    "demo = gr.Interface(\n",
    "    fn=classify_text,\n",
    "    inputs=gr.Textbox(lines=10, label=\"Enter text here\"),\n",
    "    outputs=\"json\",\n",
    "    title=\"Text Classification\",\n",
    "    description=\"Enter text to classify whether it's machine-generated or human-generated.\",\n",
    "    allow_flagging=False\n",
    ")\n",
    "demo.launch()"
   ]
  }
 ],
 "metadata": {
  "kernelspec": {
   "display_name": "detect_gpt_env",
   "language": "python",
   "name": "python3"
  },
  "language_info": {
   "codemirror_mode": {
    "name": "ipython",
    "version": 3
   },
   "file_extension": ".py",
   "mimetype": "text/x-python",
   "name": "python",
   "nbconvert_exporter": "python",
   "pygments_lexer": "ipython3",
   "version": "3.11.8"
  }
 },
 "nbformat": 4,
 "nbformat_minor": 2
}
