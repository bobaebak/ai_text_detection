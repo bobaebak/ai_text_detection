{
 "cells": [
  {
   "cell_type": "markdown",
   "metadata": {},
   "source": [
    "# Radar Implementation"
   ]
  },
  {
   "cell_type": "code",
   "execution_count": 1,
   "metadata": {},
   "outputs": [],
   "source": [
    "import os \n",
    "import sys \n",
    "import numpy as np\n",
    "\n",
    "sys.path.append(\"/Users/bobaebak/git/ai_text_detection\")"
   ]
  },
  {
   "cell_type": "code",
   "execution_count": 2,
   "metadata": {},
   "outputs": [],
   "source": [
    "from utils.file_helper import *\n",
    "from utils.text_helper import *\n",
    "from utils.plot_helper import *"
   ]
  },
  {
   "cell_type": "code",
   "execution_count": 3,
   "metadata": {},
   "outputs": [],
   "source": [
    "import transformers\n",
    "import torch\n",
    "import torch.nn.functional as F\n",
    "import numpy as np\n",
    "import random"
   ]
  },
  {
   "cell_type": "code",
   "execution_count": 4,
   "metadata": {},
   "outputs": [
    {
     "data": {
      "text/plain": [
       "RobertaForSequenceClassification(\n",
       "  (roberta): RobertaModel(\n",
       "    (embeddings): RobertaEmbeddings(\n",
       "      (word_embeddings): Embedding(50265, 1024, padding_idx=1)\n",
       "      (position_embeddings): Embedding(514, 1024, padding_idx=1)\n",
       "      (token_type_embeddings): Embedding(1, 1024)\n",
       "      (LayerNorm): LayerNorm((1024,), eps=1e-05, elementwise_affine=True)\n",
       "      (dropout): Dropout(p=0.1, inplace=False)\n",
       "    )\n",
       "    (encoder): RobertaEncoder(\n",
       "      (layer): ModuleList(\n",
       "        (0-23): 24 x RobertaLayer(\n",
       "          (attention): RobertaAttention(\n",
       "            (self): RobertaSelfAttention(\n",
       "              (query): Linear(in_features=1024, out_features=1024, bias=True)\n",
       "              (key): Linear(in_features=1024, out_features=1024, bias=True)\n",
       "              (value): Linear(in_features=1024, out_features=1024, bias=True)\n",
       "              (dropout): Dropout(p=0.1, inplace=False)\n",
       "            )\n",
       "            (output): RobertaSelfOutput(\n",
       "              (dense): Linear(in_features=1024, out_features=1024, bias=True)\n",
       "              (LayerNorm): LayerNorm((1024,), eps=1e-05, elementwise_affine=True)\n",
       "              (dropout): Dropout(p=0.1, inplace=False)\n",
       "            )\n",
       "          )\n",
       "          (intermediate): RobertaIntermediate(\n",
       "            (dense): Linear(in_features=1024, out_features=4096, bias=True)\n",
       "            (intermediate_act_fn): GELUActivation()\n",
       "          )\n",
       "          (output): RobertaOutput(\n",
       "            (dense): Linear(in_features=4096, out_features=1024, bias=True)\n",
       "            (LayerNorm): LayerNorm((1024,), eps=1e-05, elementwise_affine=True)\n",
       "            (dropout): Dropout(p=0.1, inplace=False)\n",
       "          )\n",
       "        )\n",
       "      )\n",
       "    )\n",
       "  )\n",
       "  (classifier): RobertaClassificationHead(\n",
       "    (dense): Linear(in_features=1024, out_features=1024, bias=True)\n",
       "    (dropout): Dropout(p=0.1, inplace=False)\n",
       "    (out_proj): Linear(in_features=1024, out_features=2, bias=True)\n",
       "  )\n",
       ")"
      ]
     },
     "execution_count": 4,
     "metadata": {},
     "output_type": "execute_result"
    }
   ],
   "source": [
    "device = \"mps\" # example: cuda:0\n",
    "detector_path_or_id = \"TrustSafeAI/RADAR-Vicuna-7B\"\n",
    "detector = transformers.AutoModelForSequenceClassification.from_pretrained(detector_path_or_id)\n",
    "tokenizer = transformers.AutoTokenizer.from_pretrained(detector_path_or_id)\n",
    "detector.eval()\n",
    "detector.to(device)"
   ]
  },
  {
   "cell_type": "code",
   "execution_count": 5,
   "metadata": {},
   "outputs": [],
   "source": [
    "H_texts = load_json_list(\"../data/student_answers.json\")\n",
    "M_texts = load_json_list(\"../data/gpt_ai_answers.json\")"
   ]
  },
  {
   "cell_type": "code",
   "execution_count": 10,
   "metadata": {},
   "outputs": [
    {
     "name": "stdout",
     "output_type": "stream",
     "text": [
      "There are 16 input instances\n",
      "Probability of AI-generated texts is [0.9983295798301697, 0.9989868998527527, 0.9951016902923584, 0.9975947737693787, 0.9991745352745056, 0.9927312731742859, 0.9877924919128418, 0.9996877312660217, 0.20521801710128784, 0.9995236396789551, 0.9992497563362122, 0.9871688485145569, 0.9948183298110962, 0.997668981552124, 0.5140407085418701, 0.9996370673179626]\n",
      "There are 16 input instances\n",
      "Probability of AI-generated texts is [0.9990498423576355, 0.9974244832992554, 0.9989871382713318, 0.9968700408935547, 0.9993854761123657, 0.9987450838088989, 0.8901142477989197, 0.9929261803627014, 0.9738361239433289, 0.994215726852417, 0.9994118809700012, 0.9714052677154541, 0.9926780462265015, 0.9980987906455994, 0.9955494999885559, 0.9743903875350952]\n",
      "There are 16 input instances\n",
      "Probability of AI-generated texts is [0.5349223017692566, 0.9913734197616577, 0.9579911828041077, 0.9991794228553772, 0.999096155166626, 0.9994885325431824, 0.9854584336280823, 0.9996111392974854, 0.9782664775848389, 0.6540507078170776, 0.9281423091888428, 0.9988232254981995, 0.9991515874862671, 0.8477447628974915, 0.9868452548980713, 0.9997487664222717]\n",
      "There are 16 input instances\n",
      "Probability of AI-generated texts is [0.9927917718887329, 0.9971718788146973, 0.9914817810058594, 0.9993440508842468, 0.9992990493774414, 0.999667763710022, 0.9981361627578735, 0.9907008409500122, 0.9996734261512756, 0.9983302354812622, 0.9391493201255798, 0.9825068116188049, 0.9987916946411133, 0.9994506239891052, 0.9995832443237305, 0.8957745432853699]\n",
      "There are 16 input instances\n",
      "Probability of AI-generated texts is [0.9974960684776306, 0.9875291585922241, 0.9985916614532471, 0.804570198059082, 0.873780369758606, 0.978886604309082, 0.29675254225730896, 0.8235828280448914, 0.9958154559135437, 0.9938159584999084, 0.9912465810775757, 0.9958978295326233, 0.9956074953079224, 0.9994540810585022, 0.9996474981307983, 0.995495080947876]\n",
      "There are 16 input instances\n",
      "Probability of AI-generated texts is [0.9972416162490845, 0.949883759021759, 0.981929361820221, 0.9959662556648254, 0.9997076392173767, 0.8579942584037781, 0.8284878730773926, 0.999644935131073, 0.9083450436592102, 0.9666866064071655, 0.9994410872459412, 0.9955848455429077, 0.9923515915870667, 0.9555441737174988, 0.9965431094169617, 0.9995731711387634]\n",
      "There are 16 input instances\n",
      "Probability of AI-generated texts is [0.9982975721359253, 0.8586724996566772, 0.9990576505661011, 0.9990850687026978, 0.8747920989990234, 0.9979063272476196, 0.9992385506629944, 0.9929732084274292, 0.9868374466896057, 0.9919961094856262, 0.8980709910392761, 0.9647385478019714, 0.996828019618988, 0.9957218170166016, 0.985790491104126, 0.8242579698562622]\n",
      "There are 16 input instances\n",
      "Probability of AI-generated texts is [0.9994427561759949, 0.9955936074256897, 0.9143824577331543, 0.9996680617332458, 0.9989012479782104, 0.9993261694908142, 0.9996532797813416, 0.9797140955924988, 0.8030145764350891, 0.9859545826911926, 0.9867493510246277, 0.9996448755264282, 0.5992091298103333, 0.9986554980278015, 0.9994964599609375, 0.9996271133422852]\n",
      "There are 16 input instances\n",
      "Probability of AI-generated texts is [0.9992940425872803, 0.9939032793045044, 0.939748227596283, 0.9977553486824036, 0.9969004988670349, 0.9988893270492554, 0.9432786107063293, 0.9398782253265381, 0.9944809675216675, 0.41426941752433777, 0.9834883213043213, 0.9738088846206665, 0.999635636806488, 0.9879299402236938, 0.9290304780006409, 0.9725940227508545]\n",
      "There are 16 input instances\n",
      "Probability of AI-generated texts is [0.9879361987113953, 0.9997292160987854, 0.9995761513710022, 0.9215549230575562, 0.9429725408554077, 0.9968765377998352, 0.9981682300567627, 0.9757623076438904, 0.9984065294265747, 0.9915668368339539, 0.9987521767616272, 0.9996335506439209, 0.9906784296035767, 0.9760765433311462, 0.9986616373062134, 0.9989913105964661]\n",
      "There are 16 input instances\n",
      "Probability of AI-generated texts is [0.9994308948516846, 0.9364829659461975, 0.9996545910835266, 0.9994678497314453, 0.9994828701019287, 0.9995914101600647, 0.9995061755180359, 0.9991455674171448, 0.7816196084022522, 0.9941798448562622, 0.9988521933555603, 0.9972706437110901, 0.9996225833892822, 0.9114209413528442, 0.9951910972595215, 0.9983195662498474]\n",
      "There are 16 input instances\n",
      "Probability of AI-generated texts is [0.9969284534454346, 0.9991149306297302, 0.9995705485343933, 0.9831855297088623, 0.9537599682807922, 0.9837002754211426, 0.9996790289878845, 0.9977663159370422, 0.999077558517456, 0.9911099076271057, 0.9990325570106506, 0.9959759712219238, 0.9987172484397888, 0.9995893836021423, 0.9982672929763794, 0.9980116486549377]\n"
     ]
    }
   ],
   "source": [
    "#### human with student answer (batch)\n",
    "\n",
    "Text_input = [item['raw'] for item in H_texts]\n",
    "H_probs = []\n",
    "\n",
    "for idx in range(int(len(Text_input)/16)):\n",
    "  search = Text_input[idx*16:(idx+1)*16]\n",
    "  with torch.no_grad():\n",
    "    inputs = tokenizer(search, padding=True, truncation=True, max_length=512, return_tensors=\"pt\")\n",
    "    inputs = {k:v.to(device) for k,v in inputs.items()}\n",
    "    output_probs = F.log_softmax(detector(**inputs).logits,-1)[:,0].exp().tolist()\n",
    "  # output_probs is the probability that the input_text is generated by LLM.\n",
    "  print(\"There are\",len(search),\"input instances\")\n",
    "  print(\"Probability of AI-generated texts is\",output_probs)\n",
    "  for prob in output_probs:\n",
    "    H_probs.append(prob)\n",
    "  human_preds=output_probs\n"
   ]
  },
  {
   "cell_type": "code",
   "execution_count": 14,
   "metadata": {},
   "outputs": [
    {
     "name": "stdout",
     "output_type": "stream",
     "text": [
      "There are 4 input instances\n",
      "Probability of AI-generated texts is [0.1829250007867813, 0.6921366453170776, 0.5348039865493774, 0.154791921377182]\n"
     ]
    }
   ],
   "source": [
    "#### human with student answer \n",
    "\n",
    "Human_texts = [\n",
    "  '12 Years a Slave: An Analysis of the Film Essay\\n\\nThe 2013 film 12 Years a Slave proved that slavery is a worldwide issue. Indeed, the film made $150 million outside the United States and $57 million in the U.S., with a production budget of $20 million (Sharf, 2020). The movie was based on the memoir Twelve Years a Slave by Solomon Northup (Ntim, 2020). It tells the story of a free African American man who was kidnapped and sold into slavery. Solomon spent twelve years away from his family, being traded from one master to another. Fortunately, the protagonist met a person who helped him deliver a message to his family and friends, who came and rescued him. This movie accurately illustrates discriminatory relationships between white slaveholders and black slaves that stemmed from the dysfunctional system in the country and prejudices in people’s mindsets at that time.\\n\\nThe two main ethnic groups presented in this film are White and African Americans, and the three social groups are affluent slaveholders, working for middle class, and enslaved people. The movie starts with the story of a free African American violinist Solomon Northup, living with his family in Saratoga, New York (McQueen, 2013). However, he was abducted by two white men, who tortured the man and sold him into slavery, changing his name to Plat. Before they met, Solomon and these two slave traders belonged to the same middle class. However, the fact that Northup was an African American made these individuals believe that they had the right to withdraw their freedom. The two masters that Solomon had were William Ford and Edwin Epps (McQueen, 2013). The former was kind and religious, while the latter was cruel and sadistic. Since the movie was based on a real story, it indicated that slaveholders had different characters, but all had the wrong perception of race.\\n\\nAlthough 12 Years a Slave is a film about slavery, the issues of collectivism and individualism are also raised. Specifically, the main character never identified himself as an enslaved man and continued claiming he was a free citizen (McQueen, 2013). However, his counterparts on the plant had a collective mindset, imprinted in them since childhood, that slavery is normal. These people helped each other because they belonged to the same group. Although Solomon tried to become a part of this community, his individual goal to return home was above the collective values.\\n\\nThe movie also showed prejudice, generalizations, stereotyping, and discrimination against black people. For instance, when Ford brings Solomon and Elisa to his plantation, his wife expresses her sadness that Elisa got separated from her children. However, she also stated that “something to eat and some rest” could help that woman forget her children (McQueen, 2013, 32:47-32:51). This scene demonstrated the common prejudice about slaves that they were not capable of the same feelings as white people. An example of generalization and stereotyping was how Tibeats, a carpenter, became hostile to Solomon when he showed his intelligence and gave Ford advice. In fact, Tibeats believed that Plat would never be more competent than any white individual because Plat was a “nigger” (McQueen, 2013, 36:35-36:37). Notably, before Northup became enslaved, he never experienced discrimination, but when the main character was sold into slavery, discrimination was the only attitude that he could observe.\\n\\nIn summary, 12 Years a Slave depicts the life of enslaved people and slave owners almost two centuries ago. The film narrates a free black man’s life from the moment when he enjoyed his family’s company in the state of New York to his abduction, enslavement, and eventual liberation. Overall, the movie raised such critical issues as discrimination, prejudice, stereotyping, and generalization that allowed slaveholders to maintain this societal structure for a long time.\\n\\nReferences\\n\\nMcQueen, S. (2013). 12 years a slave [Film]. New Regency Productions.\\n\\nNtim, Z. (2020). Steve McQueen says it took 11 years to create his new anthology “Small Axe” and reveals why producers almost pulled out of his Oscar-winning film “12 Years a Slave.” Insider.\\n\\nSharf, Z. (2020). Steve McQueen recalls producers rejecting “12 Years a Slave” over false beliefs about black films. Indie Wire.\\n',\n",
    "  '20+ Social Media Post Ideas to Radically Simplify Your Marketing Essay\\n\\nSocial Media Examiner’s (2021) video on social media initiatives was most useful to me since it provides more than twenty social media post ideas to improve the marketing of any business. This source demonstrates that social media, namely Facebook Business and Instagram, have great power and enhance marketing, promoting organizations through posts, stories, hashtags, and user-generated content. The most useful information to me was about trends, pros and cons, comparison, direct offer, and long-form content.\\n\\nEffective change leadership is important when an organization wants to adopt social media initiatives. A good leader is associated with effective communication, for example, written content on social media. For example, a leader may encourage customers to generate content by creating a hashtag, like #MyInstagramLogo, and inquiring them to share their views on the logo or any other product or service the company offers (They Ask, You Answer, 2018). Leaders should clarify their vision and ensure that everyone understands them. They should lead their employees in the right direction, inspiring them to change.\\n\\nI may encounter the following ethical issues: over-promising, under-delivering, and overstated statements. I would try to provide my customers with honest information about the business and stop making everyone happy to address the first issue. Over-promising can make clients disappointed and lead to their negative feedback. Therefore, it is better to follow ethical principles and make promises only if they can be 100% fulfilled. To address the second issue, I would try to be transparent and honest about the content. If the company claims to deliver products from one country to another in three days, it will need to fulfill it. Otherwise, it will be lying to the clients, thus losing its credibility. These strategies will help me address the above-mentioned ethical issues because honesty and transparency are always valued, and they help attract new customers and make the old customers stay with the company they trust.\\n\\nReferences\\n\\nSocial Media Examiner. (2021). 20+ social media post ideas to radically simplify your marketing [Video]. YouTube. Web.\\n\\nThey Ask, You Answer taught by IMPACT. (2018). 5 social media campaign examples from big brands you want to be [Video]. YouTube. Web.\\n',\n",
    "  '2022 Russian Invasion of Ukraine in Global Media Coverage Essay (Critical Writing)\\n\\nThe world has been shattered by Russia’s attack on Ukraine in the past few days. Ukraine’s forces have put up remarkable resistance to this attack, but the war is entering an even bloodier phase. Europe could be witnessing the first major military invasion in years. Many people have been displaced, and many Ukrainian citizens have fled neighboring countries for peace. Gunshots and artillery fires have been raining down on residential areas in Ukraine, with several media houses and newspapers reporting the events and sharing the news with the rest of the world.\\n\\nVarious newspapers have reported the news differently, with the difference seen in headlines, videos and images posted. The two newspapers covering the events in Ukraine are the New York Times and Le Monde, a French newspaper. While New York Times and Le Monde report the same event, the two use very different terms to describe similar activities. In the recent takeover of the city of Kharkiv by the Russian forces, for example, the NYT headline read “Russian Troops Take Over Kharkiv,” Le Monde , on the other hand, read “La Russie A Envahi Kharkiv” to mean “Russia Has Invaded Kharkiv.” Recently a video of Ukrainian citizens making Molotov cocktail Petrol bombs was shared. The headline in NYT read, “Ukraine Prepare Molotov Cocktail In Kyiv.” Le Monde ‘s headline read “Ukrainian Resistance Using Molotov Bombs.” Because headlines are the deciding factor for people to read an article, newspapers make them enticing. The New York Times uses headlines that suggest this is another world war, while Le Monde downplays the illegality of what Russia is doing. The differences seen in the headlines of the two newspapers are all for the attraction of their audiences; each magazine writes eye-catching unique topics.\\n',\n",
    "  '533 U.S. 27 (2001) Kyllo v. United States: The Use of a Thermal Imaging Device Report\\n\\nTable of Contents\\n 1. Facts\\n 2. Issue\\n 3. Holding\\n 4. Reasoning\\n 5. Reference\\n\\nFacts\\n\\nThe parties to the selected lawsuit are Agent Elliott and the petitioner Danny Kyllo, and the court initiated in Florence, Oregon. The United States Department of the Interior’s agent used the thermal imaging device to prove their suspicions that Kyllo grows marijuana indoors (Kyllo v. United States, 2001). Plants require consistent heating, and the fact that one wall was significantly warmer than others, according to the scanner, determined the course of further investigation. The agent received a warrant authorizing a search of Kyllo’s house, and the plantation was found there. The defendant pleaded guilty in violation of 21 U. S. C. § 841(a)(1); however, the dispute occurred as the appeal stated that using the thermal imaging scan on an individual’s house violates the Fourth Amendment (Kyllo v. United States, 2001). The Court of Appeals for the Ninth Circuit was required to revise the warrant’s validity based on the imaging made by Elliott. On remand, the court concluded that using a scanning device was appropriate because it did not expose any private life or human activities inside the house (Kyllo v. United States, 2001). Furthermore, the defendant had no intention to hide the use of heating; thus, their privacy was not violated.\\n\\nIssue\\n\\nWas the use of a thermal imaging device considered a search under the Fourth Amendment to the United States Constitution?\\n\\nHolding\\n\\nYes.\\n\\nReasoning\\n\\nThe final outcome was on the side of the Supreme Court, which reversed the appellation, and further proceedings concluded that scanning the house and retrieving the information about its internal parts was a search. The technology of the thermal imaging device is not used publicly and considered unreasonable; therefore, the agent was not allowed to perform it without a warrant (Kyllo v. United States, 2001). The court of the first instance was incorrect regarding the evidence approval, and the case’s reasoning forced the regulators to revise the use of technology during investigations in terms of individuals’ privacy protection. The Supreme Court had passed no significant law enforcement related to the use of technology and surveillance.\\n\\nReference\\n\\nKyllo v. United States, 533 U.S. 27, 121 S. Ct. 2038. (2001). Web.\\n',\n",
    "\n",
    "    # \"Maj Richard Scott, 40, is accused of driving at speeds of up to 95mph (153km/h) in bad weather before the smash on a B-road in Wiltshire. Gareth Hicks, 24, suffered fatal injuries when the van he was asleep in was hit by Mr Scott's Audi A6. Maj Scott denies a charge of causing death by careless driving. Prosecutor Charles Gabb alleged the defendant, from Green Lane in Shepperton, Surrey, had crossed the carriageway of the 60mph-limit B390 in Shrewton near Amesbury. The weather was \\\"awful\\\" and there was strong wind and rain, he told jurors. He said Mr Scott's car was described as \\\"twitching\\\" and \\\"may have been aquaplaning\\\" before striking the first vehicle; a BMW driven by Craig Reed. Mr Scott's Audi then returned to his side of the road but crossed the carriageway again before colliding\",\n",
    "    # \"Solar concentrating technologies such as parabolic dish, trough and Scheffler reflectors can provide process heat for commercial and industrial applications. The first commercial system was the Solar Total Energy Project (STEP) in Shenandoah, Georgia, USA where a field of 114 parabolic dishes provided 50% of the process heating, air conditioning and electrical requirements for a clothing factory. This grid-connected cogeneration system provided 400 kW of electricity plus thermal energy in the form of 401 kW steam and 468 kW chilled water, and had a one-hour peak load thermal storage. Evaporation ponds are shallow pools that concentrate dissolved solids through evaporation. The use of evaporation ponds to obtain salt from sea water is one of the oldest applications of solar energy. Modern uses include concentrating brine solutions used in leach mining and removing dissolved solids from waste\",\n",
    "    # \"The Bush administration then turned its attention to Iraq, and argued the need to remove Saddam Hussein from power in Iraq had become urgent. Among the stated reasons were that Saddam's regime had tried to acquire nuclear material and had not properly accounted for biological and chemical material it was known to have previously possessed, and believed to still maintain. Both the possession of these weapons of mass destruction (WMD), and the failure to account for them, would violate the U.N. sanctions. The assertion about WMD was hotly advanced by the Bush administration from the beginning, but other major powers including China, France, Germany, and Russia remained unconvinced that Iraq was a threat and refused to allow passage of a UN Security Council resolution to authorize the use of force. Iraq permitted UN weapon inspectors in November 2002, who were continuing their work to assess the WMD claim when the Bush administration decided to proceed with war without UN authorization and told the inspectors to leave the\"\n",
    "] # you should replace the human texts with the text in your human corpus\n",
    "Text_input = Human_texts\n",
    "# Use detector to deternine wehther the text_input is ai-generated.\n",
    "with torch.no_grad():\n",
    "  inputs = tokenizer(Text_input, padding=True, truncation=True, max_length=512, return_tensors=\"pt\")\n",
    "  inputs = {k:v.to(device) for k,v in inputs.items()}\n",
    "  output_probs = F.log_softmax(detector(**inputs).logits,-1)[:,0].exp().tolist()\n",
    "# output_probs is the probability that the input_text is generated by LLM.\n",
    "print(\"There are\",len(Text_input),\"input instances\")\n",
    "print(\"Probability of AI-generated texts is\",output_probs)\n",
    "human_preds=output_probs\n"
   ]
  },
  {
   "cell_type": "code",
   "execution_count": 9,
   "metadata": {},
   "outputs": [
    {
     "data": {
      "text/plain": [
       "[]"
      ]
     },
     "execution_count": 9,
     "metadata": {},
     "output_type": "execute_result"
    }
   ],
   "source": [
    "H_probs"
   ]
  },
  {
   "cell_type": "code",
   "execution_count": 7,
   "metadata": {},
   "outputs": [
    {
     "name": "stdout",
     "output_type": "stream",
     "text": [
      "There are 16 input instances\n",
      "Probability of AI-generated texts is [0.9945954084396362, 0.9993690252304077, 0.9989537596702576, 0.9991137385368347, 0.9990455508232117, 0.999521791934967, 0.9901681542396545, 0.9995376467704773, 0.9980800151824951, 0.9995747208595276, 0.9995194673538208, 0.9994451403617859, 0.9993560314178467, 0.9995896220207214, 0.9646524786949158, 0.9995173215866089]\n",
      "There are 16 input instances\n",
      "Probability of AI-generated texts is [0.9987499713897705, 0.9992077350616455, 0.9989438056945801, 0.9994312524795532, 0.9994621872901917, 0.9995990991592407, 0.9990707635879517, 0.9994889497756958, 0.9950196743011475, 0.9992129802703857, 0.9996464848518372, 0.9985001683235168, 0.9991378784179688, 0.9973823428153992, 0.9993596076965332, 0.9983038902282715]\n",
      "There are 16 input instances\n",
      "Probability of AI-generated texts is [0.9894871711730957, 0.9991013407707214, 0.9977661371231079, 0.9989960789680481, 0.9992492198944092, 0.9987791180610657, 0.9981695413589478, 0.9993807673454285, 0.9991729855537415, 0.9962724447250366, 0.9994511604309082, 0.9996153116226196, 0.9966918230056763, 0.9991067051887512, 0.9994279742240906, 0.9995068311691284]\n",
      "There are 16 input instances\n",
      "Probability of AI-generated texts is [0.9987384080886841, 0.998697817325592, 0.9955617785453796, 0.9991193413734436, 0.9994474053382874, 0.9983417987823486, 0.9990637898445129, 0.9992684125900269, 0.9996298551559448, 0.9983837604522705, 0.9995890259742737, 0.9984176754951477, 0.9993722438812256, 0.9996391534805298, 0.9995988607406616, 0.991256594657898]\n",
      "There are 16 input instances\n",
      "Probability of AI-generated texts is [0.9993422031402588, 0.997394859790802, 0.9992473721504211, 0.9967280626296997, 0.9952409267425537, 0.987128496170044, 0.9988529682159424, 0.9977675676345825, 0.9987305402755737, 0.9987834095954895, 0.9211669564247131, 0.9995759725570679, 0.9993875026702881, 0.9988505840301514, 0.9994121193885803, 0.9984285831451416]\n",
      "There are 16 input instances\n",
      "Probability of AI-generated texts is [0.9977390170097351, 0.9977797269821167, 0.9981884956359863, 0.9994422793388367, 0.9996421933174133, 0.9975437521934509, 0.998374342918396, 0.9995431303977966, 0.9985433220863342, 0.9971127510070801, 0.9995716214179993, 0.9982273578643799, 0.9990401864051819, 0.9951052665710449, 0.9994845986366272, 0.9988588690757751]\n",
      "There are 16 input instances\n",
      "Probability of AI-generated texts is [0.9991285800933838, 0.9995499849319458, 0.9993319511413574, 0.9990725517272949, 0.9976837635040283, 0.999045193195343, 0.9988449215888977, 0.9990031719207764, 0.9992790222167969, 0.9989303946495056, 0.9982898831367493, 0.9965811371803284, 0.9982097148895264, 0.9994586706161499, 0.994814395904541, 0.9992790222167969]\n",
      "There are 16 input instances\n",
      "Probability of AI-generated texts is [0.9990664720535278, 0.9983527660369873, 0.9965230226516724, 0.9994835257530212, 0.9992315173149109, 0.9992865324020386, 0.9995442032814026, 0.9937439560890198, 0.9787915349006653, 0.9991506934165955, 0.9983983635902405, 0.9996597170829773, 0.9995597004890442, 0.9995611310005188, 0.9994115233421326, 0.9996132850646973]\n",
      "There are 16 input instances\n",
      "Probability of AI-generated texts is [0.9985063672065735, 0.9957035183906555, 0.9957432150840759, 0.9987612366676331, 0.9994140267372131, 0.9996112585067749, 0.9991570711135864, 0.9992678761482239, 0.9971432089805603, 0.937762975692749, 0.9982012510299683, 0.9930890202522278, 0.9995476603507996, 0.9991958737373352, 0.9936321973800659, 0.9991142153739929]\n",
      "There are 16 input instances\n",
      "Probability of AI-generated texts is [0.9994198083877563, 0.9994845390319824, 0.999644935131073, 0.9864943027496338, 0.9911129474639893, 0.999505877494812, 0.9979506731033325, 0.994573712348938, 0.9994427561759949, 0.9991691708564758, 0.9991362690925598, 0.9986347556114197, 0.9986752867698669, 0.9986939430236816, 0.9992303848266602, 0.9994279742240906]\n",
      "There are 16 input instances\n",
      "Probability of AI-generated texts is [0.9983682632446289, 0.9981269240379333, 0.9996466636657715, 0.9996485710144043, 0.9994191527366638, 0.999405026435852, 0.9995858073234558, 0.9989872574806213, 0.999180018901825, 0.9973549246788025, 0.9994451403617859, 0.999510645866394, 0.9996709823608398, 0.99925297498703, 0.9994316697120667, 0.9994106292724609]\n",
      "There are 16 input instances\n",
      "Probability of AI-generated texts is [0.9983079433441162, 0.9995166063308716, 0.9995640516281128, 0.9992457032203674, 0.9952020049095154, 0.9976389408111572, 0.9995930790901184, 0.9991697072982788, 0.9983947277069092, 0.9969511032104492, 0.9996031522750854, 0.9967380166053772, 0.9977710247039795, 0.9993201494216919, 0.9995410442352295, 0.9993453025817871]\n"
     ]
    }
   ],
   "source": [
    "#### ai \n",
    "\n",
    "Text_input = [item['raw'] for item in M_texts]\n",
    "M_probs = []\n",
    "\n",
    "for idx in range(int(len(Text_input)/16)):\n",
    "  search = Text_input[idx*16:(idx+1)*16]\n",
    "  with torch.no_grad():\n",
    "    inputs = tokenizer(search, padding=True, truncation=True, max_length=512, return_tensors=\"pt\")\n",
    "    inputs = {k:v.to(device) for k,v in inputs.items()}\n",
    "    output_probs = F.log_softmax(detector(**inputs).logits,-1)[:,0].exp().tolist()\n",
    "  # output_probs is the probability that the input_text is generated by LLM.\n",
    "  print(\"There are\",len(search),\"input instances\")\n",
    "  print(\"Probability of AI-generated texts is\",output_probs)\n",
    "  for prob in output_probs:\n",
    "    M_probs.append(prob)\n",
    "  human_preds=output_probs\n"
   ]
  },
  {
   "cell_type": "code",
   "execution_count": 32,
   "metadata": {},
   "outputs": [
    {
     "data": {
      "image/png": "[encoded data removed]",
      "text/plain": [
       "<Figure size 600x300 with 2 Axes>"
      ]
     },
     "metadata": {},
     "output_type": "display_data"
    }
   ],
   "source": [
    "#### Histogram \n",
    "\n",
    "helper = PlotHelper(\n",
    "    row=1, col=2, figsize=(6,3), title=\"Radar\",\n",
    "    plots=[\n",
    "        PlotItem(ptype=\"plot\", title=\"Probability\", \n",
    "                 xlabel=\"Sample\", ylabel=\"Perplexity\", xlim=(0, 200), ylim=(0, 1),\n",
    "                 y=[[round(data, 2) for data in H_probs]],\n",
    "                 x=[[human for human in range(len(H_probs))]],\n",
    "                 args=[{\"color\":\"blue\", \"alpha\":0.7, \"label\": \"human\"}, ]\n",
    "        ),\n",
    "\n",
    "        PlotItem(ptype=\"plot\", title=\"Probability\", \n",
    "                 xlabel=\"Sample\", ylabel=\"Perplexity\", xlim=(0, 200), ylim=(0, 1),\n",
    "                 y=[[round(data, 2) for data in M_probs]],\n",
    "                 x=[[ai for ai in range(len(M_probs))]],\n",
    "                 args=[{\"color\":\"red\", \"alpha\":0.7, \"label\": \"ai\"},]\n",
    "        ),\n",
    "        \n",
    "        # PlotItem(ptype=\"bar\", title=\"Burstiness\", \n",
    "        #          xlabel=\"Sample\", ylabel=\"Burstiness\", xlim=(0, 200), ylim=(0, 3000),\n",
    "        #          y=[[human[2] for human in human_analysis]],\n",
    "        #          x=[[human for human in range(len(human_analysis))]],\n",
    "        #          args=[{ \"color\":\"blue\", \"alpha\":0.7, \"label\": \"human\"}, ]\n",
    "        # ),\n",
    "        # PlotItem(ptype=\"bar\", title=\"Burstiness\", \n",
    "        #          xlabel=\"Sample\", ylabel=\"Burstiness\", xlim=(0, 200), ylim=(0, 3000),\n",
    "        #          y=[[ai[2] for ai in ai_analysis]],\n",
    "        #          x=[[ai for ai in range(len(ai_analysis))]],\n",
    "        #          args=[{\"color\":\"red\", \"alpha\":0.7, \"label\": \"ai\"},]\n",
    "        # ),\n",
    "    ]\n",
    ")\n",
    "\n",
    "\n",
    "draws(helper)    "
   ]
  },
  {
   "cell_type": "code",
   "execution_count": 28,
   "metadata": {},
   "outputs": [
    {
     "name": "stderr",
     "output_type": "stream",
     "text": [
      "huggingface/tokenizers: The current process just got forked, after parallelism has already been used. Disabling parallelism to avoid deadlocks...\n",
      "To disable this warning, you can either:\n",
      "\t- Avoid using `tokenizers` before the fork if possible\n",
      "\t- Explicitly set the environment variable TOKENIZERS_PARALLELISM=(true | false)\n"
     ]
    }
   ],
   "source": [
    "# try on generic of dataset \n",
    "from datasets import load_dataset\n",
    "\n",
    "dataset = load_dataset(\"qwedsacf/ivypanda-essays\")\n"
   ]
  },
  {
   "cell_type": "code",
   "execution_count": 34,
   "metadata": {},
   "outputs": [
    {
     "data": {
      "text/plain": [
       "200"
      ]
     },
     "execution_count": 34,
     "metadata": {},
     "output_type": "execute_result"
    }
   ],
   "source": [
    "len(dataset['train']['TEXT'][:200])"
   ]
  },
  {
   "cell_type": "code",
   "execution_count": 43,
   "metadata": {},
   "outputs": [
    {
     "name": "stdout",
     "output_type": "stream",
     "text": [
      "There are 16 input instances\n",
      "Probability of AI-generated texts is [0.18292492628097534, 0.6921366453170776, 0.5348039865493774, 0.15479198098182678, 0.20206856727600098, 0.124354787170887, 0.351680725812912, 0.4770083725452423, 0.25885912775993347, 0.3428531587123871, 0.5063346028327942, 0.14718811213970184, 0.4094156324863434, 0.21775411069393158, 0.3075110912322998, 0.09326338022947311]\n",
      "There are 16 input instances\n",
      "Probability of AI-generated texts is [0.16912654042243958, 0.7377366423606873, 0.03585764020681381, 0.2997959852218628, 0.02934735082089901, 0.04728323593735695, 0.7564877271652222, 0.36979371309280396, 0.48556703329086304, 0.608946681022644, 0.04016568884253502, 0.5927954912185669, 0.414109468460083, 0.44808635115623474, 0.8214284777641296, 0.3803045153617859]\n",
      "There are 16 input instances\n",
      "Probability of AI-generated texts is [0.12092718482017517, 0.10954978317022324, 0.2585293650627136, 0.28616154193878174, 0.6528719663619995, 0.07723050564527512, 0.22509978711605072, 0.11222314089536667, 0.6052885055541992, 0.02516922727227211, 0.24667009711265564, 0.08835851401090622, 0.0728842169046402, 0.04964068904519081, 0.7657224535942078, 0.20178276300430298]\n",
      "There are 16 input instances\n",
      "Probability of AI-generated texts is [0.20083405077457428, 0.09553555399179459, 0.044467899948358536, 0.3756113350391388, 0.17623281478881836, 0.2350749969482422, 0.6241603493690491, 0.24320846796035767, 0.5426701903343201, 0.4297321140766144, 0.44339272379875183, 0.9735623002052307, 0.16920630633831024, 0.08131241053342819, 0.33431681990623474, 0.5404275059700012]\n",
      "There are 16 input instances\n",
      "Probability of AI-generated texts is [0.46836015582084656, 0.1640087068080902, 0.6791788339614868, 0.31211671233177185, 0.5312951803207397, 0.14826467633247375, 0.4365023970603943, 0.08527415990829468, 0.20453403890132904, 0.8058993816375732, 0.24752695858478546, 0.11582568287849426, 0.704365611076355, 0.022853752598166466, 0.2736438810825348, 0.31008413434028625]\n",
      "There are 16 input instances\n",
      "Probability of AI-generated texts is [0.08684296160936356, 0.6532666087150574, 0.2549150586128235, 0.18009629845619202, 0.6717973351478577, 0.5073492527008057, 0.8582971096038818, 0.3202303647994995, 0.9395601153373718, 0.1855171024799347, 0.16836754977703094, 0.2486754208803177, 0.16080209612846375, 0.09780706465244293, 0.3406285047531128, 0.6939170360565186]\n",
      "There are 16 input instances\n",
      "Probability of AI-generated texts is [0.3375433087348938, 0.3899826109409332, 0.22190190851688385, 0.7360126376152039, 0.17356017231941223, 0.33196234703063965, 0.34387871623039246, 0.05279379338026047, 0.265857458114624, 0.5762258172035217, 0.28980007767677307, 0.37648043036460876, 0.3551580011844635, 0.1296653002500534, 0.19744400680065155, 0.13084860146045685]\n",
      "There are 16 input instances\n",
      "Probability of AI-generated texts is [0.38335132598876953, 0.297546923160553, 0.4502997100353241, 0.20278967916965485, 0.08904784917831421, 0.33394700288772583, 0.14229272305965424, 0.23615574836730957, 0.033307068049907684, 0.5225747227668762, 0.04761242866516113, 0.37462037801742554, 0.12659715116024017, 0.39633795619010925, 0.3151272237300873, 0.3473026752471924]\n",
      "There are 16 input instances\n",
      "Probability of AI-generated texts is [0.3356814980506897, 0.8590089678764343, 0.3012523055076599, 0.1843322068452835, 0.09210661798715591, 0.2775038778781891, 0.07638593763113022, 0.47504082322120667, 0.4612153470516205, 0.06442306190729141, 0.05623013153672218, 0.16817660629749298, 0.23059141635894775, 0.0659492239356041, 0.5852189660072327, 0.310809463262558]\n",
      "There are 16 input instances\n",
      "Probability of AI-generated texts is [0.34075456857681274, 0.0898093581199646, 0.28013214468955994, 0.10716050118207932, 0.14499881863594055, 0.042715009301900864, 0.10127834975719452, 0.09509775787591934, 0.18710553646087646, 0.0719977542757988, 0.0866667777299881, 0.20096233487129211, 0.32041385769844055, 0.20008184015750885, 0.21156570315361023, 0.3890160620212555]\n",
      "There are 16 input instances\n",
      "Probability of AI-generated texts is [0.22877110540866852, 0.05407768860459328, 0.07311512529850006, 0.3009980022907257, 0.3246336579322815, 0.5900307893753052, 0.6321907043457031, 0.6691340208053589, 0.05138467624783516, 0.7584260702133179, 0.16353659331798553, 0.06448428332805634, 0.1662585437297821, 0.3114151358604431, 0.6283115744590759, 0.38963937759399414]\n",
      "There are 16 input instances\n",
      "Probability of AI-generated texts is [0.20044848322868347, 0.20961672067642212, 0.10074099153280258, 0.6967284679412842, 0.07480327785015106, 0.6226080060005188, 0.05975622311234474, 0.018194252625107765, 0.23395174741744995, 0.7113404273986816, 0.5871323347091675, 0.4301925003528595, 0.6922119855880737, 0.32806727290153503, 0.22856488823890686, 0.1246727854013443]\n",
      "There are 16 input instances\n",
      "Probability of AI-generated texts is [0.10862527042627335, 0.09346736967563629, 0.19096489250659943, 0.5506134629249573, 0.15728981792926788, 0.25414955615997314, 0.40211260318756104, 0.881234884262085, 0.17141814529895782, 0.3673769533634186, 0.114998959004879, 0.0658881813287735, 0.09994534403085709, 0.8021726608276367, 0.3497331738471985, 0.18009474873542786]\n",
      "There are 16 input instances\n",
      "Probability of AI-generated texts is [0.40329667925834656, 0.2646494209766388, 0.5212863683700562, 0.7013916969299316, 0.13492129743099213, 0.33277425169944763, 0.28442612290382385, 0.13349640369415283, 0.1916748285293579, 0.22121171653270721, 0.13047157227993011, 0.7476592659950256, 0.5774008631706238, 0.3761349618434906, 0.14845091104507446, 0.3338979184627533]\n",
      "There are 16 input instances\n",
      "Probability of AI-generated texts is [0.7227172255516052, 0.30728253722190857, 0.10136719793081284, 0.3345786929130554, 0.6825280785560608, 0.12991437315940857, 0.33599409461021423, 0.09711016714572906, 0.09323126822710037, 0.4363839328289032, 0.25044241547584534, 0.2535412311553955, 0.10956282168626785, 0.16442368924617767, 0.049596454948186874, 0.2429983913898468]\n",
      "There are 16 input instances\n",
      "Probability of AI-generated texts is [0.02139146625995636, 0.2295108288526535, 0.352400541305542, 0.25150060653686523, 0.40012070536613464, 0.8393949866294861, 0.48342594504356384, 0.4669948220252991, 0.3304389417171478, 0.08810246735811234, 0.1292431652545929, 0.7408681511878967, 0.7324258089065552, 0.36099058389663696, 0.043943241238594055, 0.6049542427062988]\n",
      "There are 16 input instances\n",
      "Probability of AI-generated texts is [0.07100235670804977, 0.2802993655204773, 0.21776799857616425, 0.17756019532680511, 0.03005141392350197, 0.38515710830688477, 0.12546467781066895, 0.37885209918022156, 0.1557401865720749, 0.11390911042690277, 0.34795060753822327, 0.43389150500297546, 0.12590354681015015, 0.34794676303863525, 0.02467215619981289, 0.5645984411239624]\n",
      "There are 16 input instances\n",
      "Probability of AI-generated texts is [0.6327211856842041, 0.3383927643299103, 0.658842146396637, 0.8025486469268799, 0.1793317198753357, 0.07319294661283493, 0.0672731027007103, 0.1290072649717331, 0.05329960584640503, 0.7761216759681702, 0.049575094133615494, 0.22411979734897614, 0.6538453698158264, 0.49355584383010864, 0.10049568116664886, 0.1124575212597847]\n",
      "There are 16 input instances\n",
      "Probability of AI-generated texts is [0.22124715149402618, 0.5995416641235352, 0.4668830335140228, 0.5386066436767578, 0.13322637975215912, 0.06968144327402115, 0.43099069595336914, 0.2156602442264557, 0.3096732199192047, 0.09293466806411743, 0.042534422129392624, 0.036287784576416016, 0.6496933698654175, 0.302411824464798, 0.09149672836065292, 0.376953125]\n",
      "There are 16 input instances\n",
      "Probability of AI-generated texts is [0.3182719647884369, 0.577285647392273, 0.24589282274246216, 0.10907433927059174, 0.07836221903562546, 0.9217933416366577, 0.8878281712532043, 0.45536357164382935, 0.5777366757392883, 0.583782434463501, 0.021646371111273766, 0.4856569766998291, 0.25249430537223816, 0.044802967458963394, 0.518302857875824, 0.2971207797527313]\n",
      "There are 16 input instances\n",
      "Probability of AI-generated texts is [0.4402988851070404, 0.8337503671646118, 0.5740655064582825, 0.1799873411655426, 0.17822179198265076, 0.4195725917816162, 0.048783957958221436, 0.22440148890018463, 0.3367684781551361, 0.23346345126628876, 0.30655795335769653, 0.7704872488975525, 0.08153563737869263, 0.24528323113918304, 0.15314063429832458, 0.1586037427186966]\n",
      "There are 16 input instances\n",
      "Probability of AI-generated texts is [0.33146846294403076, 0.5909265875816345, 0.39456436038017273, 0.9182351231575012, 0.7449286580085754, 0.15084071457386017, 0.1724887490272522, 0.6688783764839172, 0.09465640783309937, 0.7141823172569275, 0.06115403771400452, 0.7669097185134888, 0.1089138463139534, 0.20522333681583405, 0.454088419675827, 0.5070477724075317]\n",
      "There are 16 input instances\n",
      "Probability of AI-generated texts is [0.27057555317878723, 0.06677482277154922, 0.4077364504337311, 0.2153777927160263, 0.2230256348848343, 0.4114478528499603, 0.5757867693901062, 0.28598758578300476, 0.5992960929870605, 0.47288891673088074, 0.0636020377278328, 0.6045631170272827, 0.04546589031815529, 0.06089427322149277, 0.40053460001945496, 0.23144854605197906]\n",
      "There are 16 input instances\n",
      "Probability of AI-generated texts is [0.2848551571369171, 0.24832671880722046, 0.5605752468109131, 0.2757449746131897, 0.12648984789848328, 0.1574392318725586, 0.16213229298591614, 0.1482258290052414, 0.3804375231266022, 0.6689545512199402, 0.25029391050338745, 0.2610818147659302, 0.501197874546051, 0.866881787776947, 0.5671228766441345, 0.33819159865379333]\n",
      "There are 16 input instances\n",
      "Probability of AI-generated texts is [0.1069507747888565, 0.25089776515960693, 0.19852949678897858, 0.14217296242713928, 0.3961696922779083, 0.8462321162223816, 0.5970154404640198, 0.39757177233695984, 0.3680180013179779, 0.0725930705666542, 0.04483747482299805, 0.9418743848800659, 0.12997907400131226, 0.6516006588935852, 0.12813706696033478, 0.4056418538093567]\n",
      "There are 16 input instances\n",
      "Probability of AI-generated texts is [0.10728438943624496, 0.5580697655677795, 0.8058537840843201, 0.18711860477924347, 0.05361953750252724, 0.07468260079622269, 0.5017233490943909, 0.39379313588142395, 0.6170003414154053, 0.25453871488571167, 0.10451638698577881, 0.3164484202861786, 0.5259532928466797, 0.24143558740615845, 0.25823304057121277, 0.332453191280365]\n",
      "There are 16 input instances\n",
      "Probability of AI-generated texts is [0.33801379799842834, 0.3378223180770874, 0.09496518224477768, 0.4107852280139923, 0.23558376729488373, 0.5063219666481018, 0.42903661727905273, 0.1738801747560501, 0.6026468276977539, 0.7195293307304382, 0.24413342773914337, 0.7781817317008972, 0.6332598328590393, 0.38699761033058167, 0.13733533024787903, 0.1887657344341278]\n",
      "There are 16 input instances\n",
      "Probability of AI-generated texts is [0.5124666690826416, 0.293791800737381, 0.2904142737388611, 0.6677900552749634, 0.6283506155014038, 0.5455618500709534, 0.013352718204259872, 0.5345902442932129, 0.023871859535574913, 0.24195590615272522, 0.19473743438720703, 0.2802217900753021, 0.12658381462097168, 0.1155632808804512, 0.22479617595672607, 0.246286541223526]\n",
      "There are 16 input instances\n",
      "Probability of AI-generated texts is [0.7048265933990479, 0.37374046444892883, 0.24935981631278992, 0.10186813026666641, 0.41726845502853394, 0.43671083450317383, 0.2607280910015106, 0.09654158353805542, 0.05745755881071091, 0.11899622529745102, 0.3596803843975067, 0.23973515629768372, 0.13160957396030426, 0.16686540842056274, 0.4728502631187439, 0.052477624267339706]\n",
      "There are 16 input instances\n",
      "Probability of AI-generated texts is [0.41238969564437866, 0.23369695246219635, 0.6770715117454529, 0.15668454766273499, 0.427619993686676, 0.7996121048927307, 0.35572776198387146, 0.3897591531276703, 0.04933517053723335, 0.07500334829092026, 0.17760290205478668, 0.20060041546821594, 0.4317578375339508, 0.3199150562286377, 0.15947885811328888, 0.1035161092877388]\n",
      "There are 16 input instances\n",
      "Probability of AI-generated texts is [0.45574885606765747, 0.7876893877983093, 0.0892779678106308, 0.32584357261657715, 0.23786166310310364, 0.10925798118114471, 0.15896855294704437, 0.3391993045806885, 0.6025895476341248, 0.19652852416038513, 0.306193083524704, 0.3247862458229065, 0.6146021485328674, 0.48733043670654297, 0.10971186310052872, 0.7775695323944092]\n",
      "There are 16 input instances\n",
      "Probability of AI-generated texts is [0.16563786566257477, 0.3904569149017334, 0.12125648558139801, 0.16316594183444977, 0.7605275511741638, 0.1901027262210846, 0.7523712515830994, 0.328612357378006, 0.09676601737737656, 0.7688076496124268, 0.24901914596557617, 0.1499457210302353, 0.14921288192272186, 0.3175775706768036, 0.5793853402137756, 0.2896331548690796]\n",
      "There are 16 input instances\n",
      "Probability of AI-generated texts is [0.21371261775493622, 0.12517273426055908, 0.4890907108783722, 0.18135365843772888, 0.13736796379089355, 0.5356822609901428, 0.1333903968334198, 0.8371074795722961, 0.20729960501194, 0.2109479010105133, 0.1497015357017517, 0.17307166755199432, 0.18584200739860535, 0.5427756309509277, 0.034759510308504105, 0.20409974455833435]\n",
      "There are 16 input instances\n",
      "Probability of AI-generated texts is [0.304656982421875, 0.552974283695221, 0.2363356053829193, 0.057169631123542786, 0.14734302461147308, 0.5236437916755676, 0.5827263593673706, 0.09744716435670853, 0.15557217597961426, 0.3449518084526062, 0.0672174021601677, 0.14371329545974731, 0.2752857208251953, 0.1669304072856903, 0.11614781618118286, 0.12205509841442108]\n",
      "There are 16 input instances\n",
      "Probability of AI-generated texts is [0.8625727295875549, 0.18098510801792145, 0.07278777658939362, 0.34377917647361755, 0.09244488924741745, 0.3890470564365387, 0.4938848614692688, 0.31422159075737, 0.3693596422672272, 0.5834110379219055, 0.29728370904922485, 0.10785412788391113, 0.17618118226528168, 0.05761237069964409, 0.9858522415161133, 0.3023785352706909]\n",
      "There are 16 input instances\n",
      "Probability of AI-generated texts is [0.48316508531570435, 0.8564268946647644, 0.1057005301117897, 0.4984337091445923, 0.40926530957221985, 0.2031848430633545, 0.026333684101700783, 0.47105246782302856, 0.3721529245376587, 0.4571116864681244, 0.35733455419540405, 0.3900589048862457, 0.30362579226493835, 0.09202870726585388, 0.4832310676574707, 0.11897088587284088]\n",
      "There are 16 input instances\n",
      "Probability of AI-generated texts is [0.4624914526939392, 0.32160553336143494, 0.13097718358039856, 0.26226556301116943, 0.12670156359672546, 0.07815445959568024, 0.08218096941709518, 0.6793006062507629, 0.1988927125930786, 0.10706453770399094, 0.080952949821949, 0.05719224736094475, 0.7220837473869324, 0.17371226847171783, 0.06342492997646332, 0.5723739266395569]\n",
      "There are 16 input instances\n",
      "Probability of AI-generated texts is [0.29303115606307983, 0.2923245131969452, 0.028846316039562225, 0.10253795236349106, 0.3539905250072479, 0.05706389993429184, 0.35400962829589844, 0.39067116379737854, 0.4708983898162842, 0.09750519692897797, 0.03514956310391426, 0.07391861081123352, 0.12338098138570786, 0.1424715518951416, 0.17578858137130737, 0.5034287571907043]\n",
      "There are 16 input instances\n",
      "Probability of AI-generated texts is [0.5270692110061646, 0.6342580318450928, 0.22079609334468842, 0.15593238174915314, 0.28413861989974976, 0.2921908497810364, 0.6675344705581665, 0.1968017816543579, 0.9265788197517395, 0.631411075592041, 0.47996416687965393, 0.31722491979599, 0.5588201880455017, 0.40158209204673767, 0.7492421269416809, 0.10213641077280045]\n",
      "There are 16 input instances\n",
      "Probability of AI-generated texts is [0.10526107996702194, 0.40632015466690063, 0.2549889385700226, 0.09268080443143845, 0.6606554388999939, 0.0496603362262249, 0.15999509394168854, 0.48304012417793274, 0.19626016914844513, 0.44210150837898254, 0.15655945241451263, 0.6542171239852905, 0.6402860879898071, 0.22794854640960693, 0.7932037115097046, 0.5554879903793335]\n",
      "There are 16 input instances\n",
      "Probability of AI-generated texts is [0.1306295394897461, 0.28176748752593994, 0.4510125517845154, 0.09938023239374161, 0.2132238894701004, 0.09901872277259827, 0.13679127395153046, 0.5640788078308105, 0.2493923306465149, 0.7602866888046265, 0.08817942440509796, 0.2259415090084076, 0.9323261380195618, 0.10971223562955856, 0.14196525514125824, 0.1363016664981842]\n",
      "There are 16 input instances\n",
      "Probability of AI-generated texts is [0.8066940903663635, 0.31670081615448, 0.19700217247009277, 0.22648954391479492, 0.45497778058052063, 0.07522697746753693, 0.6512863039970398, 0.33149850368499756, 0.4063348174095154, 0.6978880763053894, 0.12205170094966888, 0.3488386571407318, 0.40362781286239624, 0.283897340297699, 0.06033266708254814, 0.5934556722640991]\n",
      "There are 16 input instances\n",
      "Probability of AI-generated texts is [0.2196378856897354, 0.04177061840891838, 0.4296644926071167, 0.3429146707057953, 0.18279458582401276, 0.03846956044435501, 0.14478228986263275, 0.10427072644233704, 0.516738772392273, 0.7730310559272766, 0.08121104538440704, 0.4069734513759613, 0.3436301350593567, 0.42297935485839844, 0.4216286838054657, 0.4676901698112488]\n",
      "There are 16 input instances\n",
      "Probability of AI-generated texts is [0.06645414233207703, 0.35479629039764404, 0.581357479095459, 0.4739678204059601, 0.7759236097335815, 0.20372462272644043, 0.4745381474494934, 0.20351415872573853, 0.135451078414917, 0.14911776781082153, 0.21860046684741974, 0.6378213167190552, 0.1484723538160324, 0.10561734437942505, 0.18158528208732605, 0.20463144779205322]\n",
      "There are 16 input instances\n",
      "Probability of AI-generated texts is [0.6134647727012634, 0.270832896232605, 0.15048947930335999, 0.2528880536556244, 0.1702108383178711, 0.04445377737283707, 0.2016512006521225, 0.49028342962265015, 0.10642533749341965, 0.17443619668483734, 0.07021977752447128, 0.2464950829744339, 0.379694402217865, 0.6482513546943665, 0.24364665150642395, 0.5044573545455933]\n",
      "There are 16 input instances\n",
      "Probability of AI-generated texts is [0.1065097376704216, 0.33074572682380676, 0.23253412544727325, 0.3654879927635193, 0.4903789460659027, 0.06547173857688904, 0.2457663118839264, 0.209040567278862, 0.2352205365896225, 0.31571006774902344, 0.24610751867294312, 0.14253488183021545, 0.23462140560150146, 0.7597953081130981, 0.2106410562992096, 0.5021156668663025]\n",
      "There are 16 input instances\n",
      "Probability of AI-generated texts is [0.3676149845123291, 0.6887117028236389, 0.08111578226089478, 0.14947544038295746, 0.1908385008573532, 0.17236736416816711, 0.2545415461063385, 0.335249125957489, 0.5811755061149597, 0.2575901746749878, 0.2094607949256897, 0.10248599201440811, 0.1632411628961563, 0.8817624449729919, 0.4285756051540375, 0.13081800937652588]\n",
      "There are 16 input instances\n",
      "Probability of AI-generated texts is [0.8516251444816589, 0.16006790101528168, 0.7555156350135803, 0.2515057921409607, 0.3892729878425598, 0.13265597820281982, 0.15923024713993073, 0.5476323366165161, 0.39203211665153503, 0.40799805521965027, 0.6532773971557617, 0.22523197531700134, 0.16344356536865234, 0.12305712699890137, 0.720911979675293, 0.5071786642074585]\n",
      "There are 16 input instances\n",
      "Probability of AI-generated texts is [0.048651404678821564, 0.7413063049316406, 0.3821050822734833, 0.16785316169261932, 0.5229610204696655, 0.5056941509246826, 0.7392902374267578, 0.8192514181137085, 0.18702952563762665, 0.38538238406181335, 0.4036901891231537, 0.17321540415287018, 0.37911176681518555, 0.4508638083934784, 0.0161653533577919, 0.02290230616927147]\n",
      "There are 16 input instances\n",
      "Probability of AI-generated texts is [0.482706755399704, 0.10286996513605118, 0.13273552060127258, 0.07773961126804352, 0.13584065437316895, 0.25889354944229126, 0.4128744304180145, 0.5441523790359497, 0.1848675161600113, 0.1681605726480484, 0.17706985771656036, 0.3780166506767273, 0.5341061949729919, 0.26114335656166077, 0.3538453280925751, 0.25043603777885437]\n",
      "There are 16 input instances\n",
      "Probability of AI-generated texts is [0.22472542524337769, 0.17531847953796387, 0.6274527311325073, 0.04408441111445427, 0.3452075123786926, 0.0974469780921936, 0.32239624857902527, 0.07410737127065659, 0.258068710565567, 0.4188716411590576, 0.3340950310230255, 0.04996694251894951, 0.15401464700698853, 0.8655884265899658, 0.08448638021945953, 0.4216381013393402]\n",
      "There are 16 input instances\n",
      "Probability of AI-generated texts is [0.4478128254413605, 0.18230228126049042, 0.39571377635002136, 0.3285452723503113, 0.20389072597026825, 0.19140440225601196, 0.5508431792259216, 0.6084775924682617, 0.0799981877207756, 0.31954875588417053, 0.1287660002708435, 0.47007864713668823, 0.11622006446123123, 0.37035703659057617, 0.4183695614337921, 0.4877336621284485]\n",
      "There are 16 input instances\n",
      "Probability of AI-generated texts is [0.5500943064689636, 0.3251836895942688, 0.7245755195617676, 0.3402421176433563, 0.1500854343175888, 0.5646045804023743, 0.18668128550052643, 0.27006059885025024, 0.5398562550544739, 0.27825143933296204, 0.14259783923625946, 0.29813826084136963, 0.540188729763031, 0.1441067010164261, 0.7251580953598022, 0.5532633066177368]\n",
      "There are 16 input instances\n",
      "Probability of AI-generated texts is [0.5484299063682556, 0.1155468076467514, 0.4176696538925171, 0.20150163769721985, 0.4820772111415863, 0.2175455093383789, 0.22636163234710693, 0.4802951216697693, 0.17614004015922546, 0.0774996355175972, 0.1441897451877594, 0.1778326779603958, 0.10731718689203262, 0.3661090135574341, 0.03349337726831436, 0.9494062066078186]\n",
      "There are 16 input instances\n",
      "Probability of AI-generated texts is [0.3298259973526001, 0.8334338068962097, 0.08156564086675644, 0.22831881046295166, 0.9402428269386292, 0.07996475696563721, 0.4508364498615265, 0.8096066117286682, 0.6229214072227478, 0.12860630452632904, 0.1369486004114151, 0.45783859491348267, 0.1911602020263672, 0.38448935747146606, 0.08316218852996826, 0.7422454357147217]\n",
      "There are 16 input instances\n",
      "Probability of AI-generated texts is [0.09259727597236633, 0.6228958964347839, 0.14026248455047607, 0.7982438802719116, 0.37908151745796204, 0.4018426835536957, 0.0469120517373085, 0.4353260397911072, 0.37091776728630066, 0.09599743038415909, 0.27634304761886597, 0.045608215034008026, 0.09115255624055862, 0.024983322247862816, 0.07423971593379974, 0.1052505224943161]\n",
      "There are 16 input instances\n",
      "Probability of AI-generated texts is [0.1428001970052719, 0.18322551250457764, 0.10950406640768051, 0.27293115854263306, 0.06957069039344788, 0.9089202880859375, 0.14896954596042633, 0.15749017894268036, 0.17670302093029022, 0.13935357332229614, 0.21915461122989655, 0.16257241368293762, 0.304931640625, 0.7117142677307129, 0.3603040277957916, 0.8354476690292358]\n",
      "There are 16 input instances\n",
      "Probability of AI-generated texts is [0.4353952407836914, 0.12514254450798035, 0.6717841625213623, 0.08088961243629456, 0.17034879326820374, 0.3560272753238678, 0.03240088000893593, 0.1806156039237976, 0.4116465449333191, 0.3590044677257538, 0.6994203925132751, 0.3154297173023224, 0.43679964542388916, 0.21218745410442352, 0.1795962154865265, 0.17659986019134521]\n",
      "There are 16 input instances\n",
      "Probability of AI-generated texts is [0.014487053267657757, 0.6113741397857666, 0.5463821291923523, 0.12079158425331116, 0.2074630707502365, 0.04294160380959511, 0.18811510503292084, 0.47063034772872925, 0.3385343849658966, 0.34072786569595337, 0.21365807950496674, 0.5175390839576721, 0.08677003532648087, 0.7378731369972229, 0.013603857718408108, 0.18462210893630981]\n",
      "There are 16 input instances\n",
      "Probability of AI-generated texts is [0.2826530933380127, 0.0907183364033699, 0.3996662199497223, 0.11568672209978104, 0.48913198709487915, 0.11701734364032745, 0.8272659182548523, 0.18440963327884674, 0.14485904574394226, 0.5754842758178711, 0.33911678194999695, 0.14003035426139832, 0.20607398450374603, 0.5152861475944519, 0.7449238300323486, 0.4645998775959015]\n",
      "There are 16 input instances\n",
      "Probability of AI-generated texts is [0.41589581966400146, 0.1996881514787674, 0.08741486817598343, 0.0674215629696846, 0.2175704687833786, 0.15058989822864532, 0.7027760744094849, 0.4781554639339447, 0.16566011309623718, 0.6418306231498718, 0.23097501695156097, 0.17238467931747437, 0.026275591924786568, 0.14812108874320984, 0.10414424538612366, 0.6863277554512024]\n",
      "There are 16 input instances\n",
      "Probability of AI-generated texts is [0.0638330727815628, 0.16220884025096893, 0.4619225859642029, 0.31198790669441223, 0.7289438247680664, 0.07158970087766647, 0.3070932924747467, 0.09957409650087357, 0.05042651668190956, 0.23879411816596985, 0.6382607817649841, 0.08800023049116135, 0.2113742232322693, 0.7362988591194153, 0.09580358862876892, 0.7373537421226501]\n"
     ]
    }
   ],
   "source": [
    "#### human with student answer\n",
    "\n",
    "Text_input = dataset['train']['TEXT'][:1000]\n",
    "H_probs = []\n",
    "\n",
    "for idx in range(int(len(Text_input)/16)):\n",
    "  search = Text_input[idx*16:(idx+1)*16]\n",
    "  with torch.no_grad():\n",
    "    inputs = tokenizer(search, padding=True, truncation=True, max_length=512, return_tensors=\"pt\")\n",
    "    inputs = {k:v.to(device) for k,v in inputs.items()}\n",
    "    output_probs = F.log_softmax(detector(**inputs).logits,-1)[:,0].exp().tolist()\n",
    "  # output_probs is the probability that the input_text is generated by LLM.\n",
    "  print(\"There are\",len(search),\"input instances\")\n",
    "  print(\"Probability of AI-generated texts is\",output_probs)\n",
    "  for prob in output_probs:\n",
    "    H_probs.append(prob)\n",
    "  human_preds=output_probs\n"
   ]
  },
  {
   "cell_type": "code",
   "execution_count": 53,
   "metadata": {},
   "outputs": [
    {
     "data": {
      "image/png": "[encoded data removed]",
      "text/plain": [
       "<Figure size 1000x800 with 2 Axes>"
      ]
     },
     "metadata": {},
     "output_type": "display_data"
    }
   ],
   "source": [
    "#### Histogram \n",
    "\n",
    "helper = PlotHelper(\n",
    "    row=2, col=1, figsize=(10,8), title=\"Radar\",\n",
    "    plots=[\n",
    "        PlotItem(ptype=\"bar\", title=\"Probability\", \n",
    "                 xlabel=\"Sample\", ylabel=\"Probability\", xlim=(0, 1000), ylim=(0, 1),\n",
    "                 y=[[round(data, 2) for data in H_probs]],\n",
    "                 x=[[human for human in range(len(H_probs))]],\n",
    "                 args=[{\"color\":\"blue\", \"alpha\":0.7, \"label\": \"human\"}, ]\n",
    "        ),\n",
    "\n",
    "        PlotItem(ptype=\"hist\", title=\"Probability\", \n",
    "                 xlabel=\"Sample\", ylabel=\"Frequency\", \n",
    "                 x=[H_probs],\n",
    "                 args=[{\"bins\":np.linspace(0, 1, 11), \"color\":\"blue\", \"alpha\":0.7, \"label\": \"human\"},]\n",
    "        ),\n",
    "        \n",
    "    ]\n",
    ")\n",
    "\n",
    "draws(helper)    "
   ]
  },
  {
   "cell_type": "code",
   "execution_count": 45,
   "metadata": {},
   "outputs": [
    {
     "data": {
      "text/plain": [
       "0.3213523889576355"
      ]
     },
     "execution_count": 45,
     "metadata": {},
     "output_type": "execute_result"
    }
   ],
   "source": [
    "np.mean(H_probs)\n",
    "\n"
   ]
  },
  {
   "cell_type": "code",
   "execution_count": 49,
   "metadata": {},
   "outputs": [
    {
     "data": {
      "text/plain": [
       "array([0. , 0.1, 0.2, 0.3, 0.4, 0.5, 0.6, 0.7, 0.8, 0.9, 1. ])"
      ]
     },
     "execution_count": 49,
     "metadata": {},
     "output_type": "execute_result"
    }
   ],
   "source": [
    "np.linspace(0, 1, 11)"
   ]
  }
 ],
 "metadata": {
  "kernelspec": {
   "display_name": "ai_detector",
   "language": "python",
   "name": "python3"
  },
  "language_info": {
   "codemirror_mode": {
    "name": "ipython",
    "version": 3
   },
   "file_extension": ".py",
   "mimetype": "text/x-python",
   "name": "python",
   "nbconvert_exporter": "python",
   "pygments_lexer": "ipython3",
   "version": "3.10.14"
  }
 },
 "nbformat": 4,
 "nbformat_minor": 2
}
